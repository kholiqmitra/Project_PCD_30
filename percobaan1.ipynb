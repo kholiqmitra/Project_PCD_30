{
 "cells": [
  {
   "cell_type": "code",
   "execution_count": 33,
   "id": "6184a1b6",
   "metadata": {},
   "outputs": [],
   "source": [
    "# Import library yang kalian butuhkan\n",
    "import os\n",
    "import cv2 as cv\n",
    "import matplotlib.pyplot as plt\n",
    "import numpy as np\n",
    "import pandas as pd\n",
    "from sklearn.model_selection import train_test_split, cross_val_predict\n",
    "from sklearn.metrics import accuracy_score, classification_report\n",
    "from skimage.feature import graycomatrix, graycoprops\n",
    "from scipy.stats import entropy\n",
    "from sklearn.ensemble import RandomForestClassifier\n",
    "from sklearn.svm import SVC\n",
    "from sklearn.neighbors import KNeighborsClassifier\n",
    "from sklearn.metrics import accuracy_score, precision_score, recall_score, f1_score, confusion_matrix, classification_report\n",
    "from sklearn.metrics import (confusion_matrix, ConfusionMatrixDisplay)\n",
    "import seaborn as sns\n",
    "import pywt"
   ]
  },
  {
   "cell_type": "markdown",
   "id": "7df0a0d3",
   "metadata": {},
   "source": [
    "## Data Loading"
   ]
  },
  {
   "cell_type": "markdown",
   "id": "ea27a137",
   "metadata": {},
   "source": [
    "Buat struktur folder dataset sebagai berikut:\n",
    "```\n",
    ".\n",
    "└──dataset\n",
    "    ├── label1\n",
    "\t├── image1.jpg\n",
    "\t├── image2.jpg\n",
    "\t└── image3.jpg\n",
    "    ├── label2\n",
    "    └── label3\n",
    "    └── dst...\n",
    "```"
   ]
  },
  {
   "cell_type": "code",
   "execution_count": 34,
   "id": "a0580c8f",
   "metadata": {},
   "outputs": [],
   "source": [
    "data = []\n",
    "labels = []\n",
    "file_name = []\n",
    "\n",
    "for sub_folder in os.listdir(\"dataset\\\\\"):\n",
    "    sub_folder_files = os.listdir(os.path.join(\"dataset\\\\\", sub_folder))\n",
    "    for i, filename in enumerate(sub_folder_files):\n",
    "        img_path = os.path.join(\"dataset\\\\\", sub_folder, filename)\n",
    "        img = cv.imread(img_path)\n",
    "        img = cv.resize(img, (224, 224))\n",
    "        img = img.astype(np.uint8)\n",
    "        img = cv.cvtColor(img, cv.COLOR_BGR2GRAY)\n",
    "        \n",
    "        data.append(img)\n",
    "        labels.append(sub_folder)\n",
    "        name = os.path.splitext(filename)[0]\n",
    "        file_name.append(filename)\n",
    "        \n",
    "data = np.array(data)\n",
    "labels = np.array(labels)"
   ]
  },
  {
   "cell_type": "markdown",
   "id": "6799d11c",
   "metadata": {},
   "source": [
    "## Data Augmentation"
   ]
  },
  {
   "cell_type": "markdown",
   "id": "163af5e2",
   "metadata": {},
   "source": [
    "### Define Augmentation Function\n"
   ]
  },
  {
   "cell_type": "code",
   "execution_count": 35,
   "id": "09f5554c",
   "metadata": {},
   "outputs": [],
   "source": [
    "# melakukan augmentasi data\n",
    "data_augmented = []\n",
    "labels_augmented = []\n",
    "paths_augmented = []\n",
    "file_name_augmented = []\n",
    "angles = [0, 45, 90, 135]\n",
    "\n",
    "for i in range(len(data)):\n",
    "    img = data[i]\n",
    "    label = labels[i]\n",
    "    name = file_name[i]\n",
    "    \n",
    "    (h, w) = img.shape[:2]\n",
    "    center = (w // 2, h // 2)\n",
    "    \n",
    "    for angle in angles:\n",
    "        M = cv.getRotationMatrix2D(center, angle, 1.0)\n",
    "        rotated = cv.warpAffine(img, M, (w, h))\n",
    "        \n",
    "        data_augmented.append(rotated)\n",
    "        labels_augmented.append(label)\n",
    "        # Tambah keterangan rotasi ke nama file\n",
    "        file_name_augmented.append(f\"{os.path.splitext(name)[0]}_rot{angle}.jpg\")\n",
    "\n",
    "data_augmented = np.array(data_augmented)\n",
    "labels_augmented = np.array(labels_augmented)"
   ]
  },
  {
   "cell_type": "code",
   "execution_count": 36,
   "id": "024fcdea",
   "metadata": {},
   "outputs": [
    {
     "name": "stdout",
     "output_type": "stream",
     "text": [
      "Data sebelum augmentasi:  200\n",
      "Data setelah augmentasi:  800\n"
     ]
    }
   ],
   "source": [
    "print(\"Data sebelum augmentasi: \", len(data))\n",
    "print(\"Data setelah augmentasi: \", len(data_augmented))"
   ]
  },
  {
   "cell_type": "markdown",
   "id": "62176457",
   "metadata": {},
   "source": [
    "## Data Preparation"
   ]
  },
  {
   "cell_type": "markdown",
   "id": "b0febf11",
   "metadata": {},
   "source": [
    "### Define Preprocessing Function\n"
   ]
  },
  {
   "cell_type": "code",
   "execution_count": 37,
   "id": "65a18fd1",
   "metadata": {},
   "outputs": [],
   "source": [
    "def prepro1(img):\n",
    "    img_eq = cv.equalizeHist(img)\n",
    "\n",
    "    kernel = np.array([[0, -1, 0],\n",
    "                       [-1, 5, -1],\n",
    "                       [0, -1, 0]])\n",
    "    sharp_img = cv.filter2D(img_eq, -1, kernel)\n",
    "    return sharp_img\n",
    "\n",
    "def prepro2(img):\n",
    "    img_eq = cv.equalizeHist(img)\n",
    "\n",
    "    kernel = np.array([[0, -1, 0],\n",
    "                       [-1, 5, -1],\n",
    "                       [0, -1, 0]])\n",
    "    sharp_img = cv.filter2D(img_eq, -1, kernel)\n",
    "\n",
    "    median_img = cv.medianBlur(sharp_img, 3)\n",
    "    img_blur = cv.GaussianBlur(median_img, (3,3), 0)\n",
    "    return img_blur\n",
    "\n",
    "def prepro3(img):\n",
    "    img_eq = cv.equalizeHist(img)\n",
    "\n",
    "    kernel = np.array([[0, -1, 0],\n",
    "                       [-1, 5, -1],\n",
    "                       [0, -1, 0]])\n",
    "    sharp_img = cv.filter2D(img_eq, -1, kernel)\n",
    "\n",
    "    median_img = cv.medianBlur(sharp_img, 3)\n",
    "    img_blur = cv.GaussianBlur(median_img, (3,3), 0)\n",
    "    return img_blur"
   ]
  },
  {
   "cell_type": "markdown",
   "id": "3613c643",
   "metadata": {},
   "source": [
    "### Preprocessing"
   ]
  },
  {
   "cell_type": "code",
   "execution_count": 38,
   "id": "a1145354",
   "metadata": {},
   "outputs": [],
   "source": [
    "# pada bagian ini bisa gunakan data yang sebelum augmentasi atau setelah augmentasi\n",
    "dataPreprocessed = []\n",
    "for i in range(len(data)): # Loop through each image and do preprocessing\n",
    "\timg = data[i]\n",
    "    # coba pakai salah satu prepro, misal prepro1\n",
    "\timg_proc = prepro1(img)\n",
    "\tdataPreprocessed.append(img_proc)"
   ]
  },
  {
   "cell_type": "markdown",
   "id": "cf306948",
   "metadata": {},
   "source": [
    "### Feature Extraction"
   ]
  },
  {
   "cell_type": "code",
   "execution_count": 39,
   "id": "fec378ba",
   "metadata": {},
   "outputs": [],
   "source": [
    "def glcm(image, derajat):\n",
    "    if derajat == 0:\n",
    "        angles = [0]\n",
    "    elif derajat == 45:\n",
    "        angles = [np.pi / 4]\n",
    "    elif derajat == 90:\n",
    "        angles = [np.pi / 2]\n",
    "    elif derajat == 135:\n",
    "        angles = [3 * np.pi / 4]\n",
    "    else:\n",
    "        raise ValueError(\"Invalid angle. It should be one of the following: 0, 45, 90, 135.\")\n",
    "    \n",
    "    # mengembalikan matrix glcm dari image\n",
    "    glcm = graycomatrix(image, [1], angles, 256, symmetric=True, normed=True)\n",
    "    return glcm"
   ]
  },
  {
   "cell_type": "code",
   "execution_count": 40,
   "id": "daf10f07",
   "metadata": {},
   "outputs": [],
   "source": [
    "def correlation(matriks):\n",
    "\treturn graycoprops(matriks, 'correlation')[0, 0]"
   ]
  },
  {
   "cell_type": "code",
   "execution_count": 41,
   "id": "c2560c7a",
   "metadata": {},
   "outputs": [],
   "source": [
    "def dissimilarity(matriks):\n",
    "    return graycoprops(matriks, 'dissimilarity')[0, 0]"
   ]
  },
  {
   "cell_type": "code",
   "execution_count": 42,
   "id": "c0d9be99",
   "metadata": {},
   "outputs": [],
   "source": [
    "def homogenity(matriks):\n",
    "    return graycoprops(matriks, 'homogeneity')[0, 0]"
   ]
  },
  {
   "cell_type": "code",
   "execution_count": 43,
   "id": "3d23e443",
   "metadata": {},
   "outputs": [],
   "source": [
    "def contrast(matriks):\n",
    "    return graycoprops(matriks, 'contrast')[0, 0]"
   ]
  },
  {
   "cell_type": "code",
   "execution_count": 44,
   "id": "52bf5a9a",
   "metadata": {},
   "outputs": [],
   "source": [
    "def ASM(matriks):\n",
    "    return graycoprops(matriks, 'ASM')[0, 0]"
   ]
  },
  {
   "cell_type": "code",
   "execution_count": 45,
   "id": "22705f20",
   "metadata": {},
   "outputs": [],
   "source": [
    "def energy(matriks):\n",
    "    return graycoprops(matriks, 'energy')[0, 0]"
   ]
  },
  {
   "cell_type": "code",
   "execution_count": 46,
   "id": "4e679018",
   "metadata": {},
   "outputs": [],
   "source": [
    "def entropyGlcm(matriks):\n",
    "    return entropy(matriks.ravel())"
   ]
  },
  {
   "cell_type": "code",
   "execution_count": 47,
   "id": "73849914",
   "metadata": {},
   "outputs": [],
   "source": [
    "Derajat0 = []\n",
    "Derajat45 = []\n",
    "Derajat90 = []\n",
    "Derajat135 = []\n",
    "for i in range(len(dataPreprocessed)):\n",
    "    D0 = glcm(dataPreprocessed[i], 0)\n",
    "    D45 = glcm(dataPreprocessed[i], 45)\n",
    "    D90 = glcm(dataPreprocessed[i], 90)\n",
    "    D135 = glcm(dataPreprocessed[i], 135)\n",
    "    Derajat0.append(D0)\n",
    "    Derajat45.append(D45)\n",
    "    Derajat90.append(D90)\n",
    "    Derajat135.append(D135)"
   ]
  },
  {
   "cell_type": "code",
   "execution_count": 48,
   "id": "042afb26",
   "metadata": {},
   "outputs": [],
   "source": [
    "Kontras0, Kontras45, Kontras90, Kontras135 = [], [], [], []\n",
    "dissimilarity0, dissimilarity45, dissimilarity90, dissimilarity135 =  [], [], [], []\n",
    "homogenity0, homogenity45, homogenity90, homogenity135 = [], [], [], []\n",
    "entropy0, entropy45, entropy90, entropy135 =  [], [], [], []\n",
    "ASM0, ASM45, ASM90, ASM135 =  [], [], [], []\n",
    "energy0, energy45, energy90, energy135 =  [], [], [], []\n",
    "correlation0, correlation45, correlation90, correlation135 = [], [], [], []\n"
   ]
  },
  {
   "cell_type": "code",
   "execution_count": 49,
   "id": "d2100d81",
   "metadata": {},
   "outputs": [],
   "source": [
    "for i in range(len(dataPreprocessed)):\n",
    "    C0 = correlation(Derajat0[i])\n",
    "    correlation0.append(C0)\n",
    "    C45 = correlation(Derajat45[i])\n",
    "    correlation45.append(C45)\n",
    "    C90 = correlation(Derajat90[i])\n",
    "    correlation90.append(C90)\n",
    "    C135 = correlation(Derajat135[i])\n",
    "    correlation135.append(C135)"
   ]
  },
  {
   "cell_type": "code",
   "execution_count": 50,
   "id": "d5afa6c2",
   "metadata": {},
   "outputs": [],
   "source": [
    "for i in range(len(data)):\n",
    "    K0 = contrast(Derajat0[i])\n",
    "    K45 = contrast(Derajat45[i])\n",
    "    K90 = contrast(Derajat90[i])\n",
    "    K135 = contrast(Derajat135[i])\n",
    "    Kontras0.append(K0)\n",
    "    Kontras45.append(K45)\n",
    "    Kontras90.append(K90)\n",
    "    Kontras135.append(K135)"
   ]
  },
  {
   "cell_type": "code",
   "execution_count": 51,
   "id": "f43a2a41",
   "metadata": {},
   "outputs": [],
   "source": [
    "for i in range(len(data)):\n",
    "    Dis0 = dissimilarity(Derajat0[i])\n",
    "    Dis45 = dissimilarity(Derajat45[i])\n",
    "    Dis90 = dissimilarity(Derajat90[i])\n",
    "    Dis135 = dissimilarity(Derajat135[i])\n",
    "    dissimilarity0.append(Dis0)\n",
    "    dissimilarity45.append(Dis45)\n",
    "    dissimilarity90.append(Dis90)\n",
    "    dissimilarity135.append(Dis135)"
   ]
  },
  {
   "cell_type": "code",
   "execution_count": 52,
   "id": "e5892d8d",
   "metadata": {},
   "outputs": [],
   "source": [
    "for i in range(len(data)):\n",
    "    H0 = homogenity(Derajat0[i])\n",
    "    H45 = homogenity(Derajat45[i])\n",
    "    H90 = homogenity(Derajat90[i])\n",
    "    H135 = homogenity(Derajat135[i])\n",
    "    homogenity0.append(H0)\n",
    "    homogenity45.append(H45)\n",
    "    homogenity90.append(H90)\n",
    "    homogenity135.append(H135)"
   ]
  },
  {
   "cell_type": "code",
   "execution_count": 53,
   "id": "5e75484e",
   "metadata": {},
   "outputs": [],
   "source": [
    "for i in range(len(data)):  \n",
    "    E0 = entropyGlcm(Derajat0[i])\n",
    "    E45 = entropyGlcm(Derajat45[i])\n",
    "    E90 = entropyGlcm(Derajat90[i])\n",
    "    E135 = entropyGlcm(Derajat135[i])\n",
    "    entropy0.append(E0)\n",
    "    entropy45.append(E45)\n",
    "    entropy90.append(E90)\n",
    "    entropy135.append(E135)"
   ]
  },
  {
   "cell_type": "code",
   "execution_count": 54,
   "id": "f3ae22e2",
   "metadata": {},
   "outputs": [],
   "source": [
    "for i in range(len(data)):\n",
    "    A0 = ASM(Derajat0[i])\n",
    "    A45 = ASM(Derajat45[i])\n",
    "    A90 = ASM(Derajat90[i])\n",
    "    A135 = ASM(Derajat135[i])\n",
    "    ASM0.append(A0)\n",
    "    ASM45.append(A45)\n",
    "    ASM90.append(A90)\n",
    "    ASM135.append(A135)"
   ]
  },
  {
   "cell_type": "code",
   "execution_count": 55,
   "id": "4e13545b",
   "metadata": {},
   "outputs": [],
   "source": [
    "for i in range(len(data)):\n",
    "    ER0 = energy(Derajat0[i])\n",
    "    ER45 = energy(Derajat45[i])\n",
    "    ER90 = energy(Derajat90[i])\n",
    "    ER135 = energy(Derajat135[i])\n",
    "    energy0.append(ER0)\n",
    "    energy45.append(ER45)\n",
    "    energy90.append(ER90)\n",
    "    energy135.append(ER135)"
   ]
  },
  {
   "cell_type": "markdown",
   "id": "90b4a140",
   "metadata": {},
   "source": [
    "### Write the extraction's results to CSV "
   ]
  },
  {
   "cell_type": "code",
   "execution_count": 56,
   "id": "c9321664",
   "metadata": {},
   "outputs": [
    {
     "data": {
      "text/html": [
       "<div>\n",
       "<style scoped>\n",
       "    .dataframe tbody tr th:only-of-type {\n",
       "        vertical-align: middle;\n",
       "    }\n",
       "\n",
       "    .dataframe tbody tr th {\n",
       "        vertical-align: top;\n",
       "    }\n",
       "\n",
       "    .dataframe thead th {\n",
       "        text-align: right;\n",
       "    }\n",
       "</style>\n",
       "<table border=\"1\" class=\"dataframe\">\n",
       "  <thead>\n",
       "    <tr style=\"text-align: right;\">\n",
       "      <th></th>\n",
       "      <th>Filename</th>\n",
       "      <th>Label</th>\n",
       "      <th>Contrast0</th>\n",
       "      <th>Contrast45</th>\n",
       "      <th>Contrast90</th>\n",
       "      <th>Contrast135</th>\n",
       "      <th>Homogeneity0</th>\n",
       "      <th>Homogeneity45</th>\n",
       "      <th>Homogeneity90</th>\n",
       "      <th>Homogeneity135</th>\n",
       "      <th>...</th>\n",
       "      <th>ASM90</th>\n",
       "      <th>ASM135</th>\n",
       "      <th>Energy0</th>\n",
       "      <th>Energy45</th>\n",
       "      <th>Energy90</th>\n",
       "      <th>Energy135</th>\n",
       "      <th>Correlation0</th>\n",
       "      <th>Correlation45</th>\n",
       "      <th>Correlation90</th>\n",
       "      <th>Correlation135</th>\n",
       "    </tr>\n",
       "  </thead>\n",
       "  <tbody>\n",
       "    <tr>\n",
       "      <th>0</th>\n",
       "      <td>1163.png</td>\n",
       "      <td>withMask</td>\n",
       "      <td>67.385010</td>\n",
       "      <td>95.455268</td>\n",
       "      <td>60.542981</td>\n",
       "      <td>102.357578</td>\n",
       "      <td>0.211112</td>\n",
       "      <td>0.178533</td>\n",
       "      <td>0.214487</td>\n",
       "      <td>0.173149</td>\n",
       "      <td>...</td>\n",
       "      <td>0.000261</td>\n",
       "      <td>0.000214</td>\n",
       "      <td>0.015897</td>\n",
       "      <td>0.014697</td>\n",
       "      <td>0.016142</td>\n",
       "      <td>0.014617</td>\n",
       "      <td>0.993887</td>\n",
       "      <td>0.991324</td>\n",
       "      <td>0.994506</td>\n",
       "      <td>0.990696</td>\n",
       "    </tr>\n",
       "    <tr>\n",
       "      <th>1</th>\n",
       "      <td>1174.png</td>\n",
       "      <td>withMask</td>\n",
       "      <td>314.104040</td>\n",
       "      <td>554.471636</td>\n",
       "      <td>356.159573</td>\n",
       "      <td>542.985522</td>\n",
       "      <td>0.187353</td>\n",
       "      <td>0.154650</td>\n",
       "      <td>0.185320</td>\n",
       "      <td>0.153149</td>\n",
       "      <td>...</td>\n",
       "      <td>0.000290</td>\n",
       "      <td>0.000234</td>\n",
       "      <td>0.017922</td>\n",
       "      <td>0.015733</td>\n",
       "      <td>0.017018</td>\n",
       "      <td>0.015304</td>\n",
       "      <td>0.973139</td>\n",
       "      <td>0.952655</td>\n",
       "      <td>0.969678</td>\n",
       "      <td>0.953636</td>\n",
       "    </tr>\n",
       "    <tr>\n",
       "      <th>2</th>\n",
       "      <td>1175.png</td>\n",
       "      <td>withMask</td>\n",
       "      <td>879.344351</td>\n",
       "      <td>1031.199582</td>\n",
       "      <td>317.879304</td>\n",
       "      <td>1068.959983</td>\n",
       "      <td>0.143040</td>\n",
       "      <td>0.116696</td>\n",
       "      <td>0.173255</td>\n",
       "      <td>0.115260</td>\n",
       "      <td>...</td>\n",
       "      <td>0.001345</td>\n",
       "      <td>0.000498</td>\n",
       "      <td>0.024231</td>\n",
       "      <td>0.022526</td>\n",
       "      <td>0.036675</td>\n",
       "      <td>0.022326</td>\n",
       "      <td>0.926837</td>\n",
       "      <td>0.914049</td>\n",
       "      <td>0.973575</td>\n",
       "      <td>0.910902</td>\n",
       "    </tr>\n",
       "    <tr>\n",
       "      <th>3</th>\n",
       "      <td>1203.png</td>\n",
       "      <td>withMask</td>\n",
       "      <td>223.845892</td>\n",
       "      <td>452.772789</td>\n",
       "      <td>257.164017</td>\n",
       "      <td>410.563695</td>\n",
       "      <td>0.154254</td>\n",
       "      <td>0.113573</td>\n",
       "      <td>0.144635</td>\n",
       "      <td>0.115242</td>\n",
       "      <td>...</td>\n",
       "      <td>0.000232</td>\n",
       "      <td>0.000162</td>\n",
       "      <td>0.015734</td>\n",
       "      <td>0.012362</td>\n",
       "      <td>0.015223</td>\n",
       "      <td>0.012713</td>\n",
       "      <td>0.980570</td>\n",
       "      <td>0.960677</td>\n",
       "      <td>0.977723</td>\n",
       "      <td>0.964342</td>\n",
       "    </tr>\n",
       "    <tr>\n",
       "      <th>4</th>\n",
       "      <td>1361.png</td>\n",
       "      <td>withMask</td>\n",
       "      <td>55.918302</td>\n",
       "      <td>91.318607</td>\n",
       "      <td>73.709381</td>\n",
       "      <td>90.531541</td>\n",
       "      <td>0.229127</td>\n",
       "      <td>0.191224</td>\n",
       "      <td>0.214337</td>\n",
       "      <td>0.188831</td>\n",
       "      <td>...</td>\n",
       "      <td>0.000269</td>\n",
       "      <td>0.000233</td>\n",
       "      <td>0.017146</td>\n",
       "      <td>0.015381</td>\n",
       "      <td>0.016404</td>\n",
       "      <td>0.015271</td>\n",
       "      <td>0.994961</td>\n",
       "      <td>0.991765</td>\n",
       "      <td>0.993348</td>\n",
       "      <td>0.991836</td>\n",
       "    </tr>\n",
       "    <tr>\n",
       "      <th>...</th>\n",
       "      <td>...</td>\n",
       "      <td>...</td>\n",
       "      <td>...</td>\n",
       "      <td>...</td>\n",
       "      <td>...</td>\n",
       "      <td>...</td>\n",
       "      <td>...</td>\n",
       "      <td>...</td>\n",
       "      <td>...</td>\n",
       "      <td>...</td>\n",
       "      <td>...</td>\n",
       "      <td>...</td>\n",
       "      <td>...</td>\n",
       "      <td>...</td>\n",
       "      <td>...</td>\n",
       "      <td>...</td>\n",
       "      <td>...</td>\n",
       "      <td>...</td>\n",
       "      <td>...</td>\n",
       "      <td>...</td>\n",
       "      <td>...</td>\n",
       "    </tr>\n",
       "    <tr>\n",
       "      <th>195</th>\n",
       "      <td>967.png</td>\n",
       "      <td>withoutMask</td>\n",
       "      <td>142.715707</td>\n",
       "      <td>291.512819</td>\n",
       "      <td>209.967849</td>\n",
       "      <td>297.755535</td>\n",
       "      <td>0.216194</td>\n",
       "      <td>0.194488</td>\n",
       "      <td>0.237930</td>\n",
       "      <td>0.188949</td>\n",
       "      <td>...</td>\n",
       "      <td>0.004663</td>\n",
       "      <td>0.004036</td>\n",
       "      <td>0.064796</td>\n",
       "      <td>0.063916</td>\n",
       "      <td>0.068286</td>\n",
       "      <td>0.063527</td>\n",
       "      <td>0.988592</td>\n",
       "      <td>0.976696</td>\n",
       "      <td>0.983239</td>\n",
       "      <td>0.976197</td>\n",
       "    </tr>\n",
       "    <tr>\n",
       "      <th>196</th>\n",
       "      <td>972.png</td>\n",
       "      <td>withoutMask</td>\n",
       "      <td>372.509950</td>\n",
       "      <td>616.263669</td>\n",
       "      <td>329.767917</td>\n",
       "      <td>637.508094</td>\n",
       "      <td>0.136766</td>\n",
       "      <td>0.108867</td>\n",
       "      <td>0.142811</td>\n",
       "      <td>0.107751</td>\n",
       "      <td>...</td>\n",
       "      <td>0.000405</td>\n",
       "      <td>0.000206</td>\n",
       "      <td>0.017733</td>\n",
       "      <td>0.014625</td>\n",
       "      <td>0.020120</td>\n",
       "      <td>0.014366</td>\n",
       "      <td>0.968876</td>\n",
       "      <td>0.948478</td>\n",
       "      <td>0.972465</td>\n",
       "      <td>0.946703</td>\n",
       "    </tr>\n",
       "    <tr>\n",
       "      <th>197</th>\n",
       "      <td>973.png</td>\n",
       "      <td>withoutMask</td>\n",
       "      <td>281.121276</td>\n",
       "      <td>467.197269</td>\n",
       "      <td>265.107503</td>\n",
       "      <td>421.847433</td>\n",
       "      <td>0.146686</td>\n",
       "      <td>0.119612</td>\n",
       "      <td>0.147766</td>\n",
       "      <td>0.119506</td>\n",
       "      <td>...</td>\n",
       "      <td>0.000355</td>\n",
       "      <td>0.000246</td>\n",
       "      <td>0.018149</td>\n",
       "      <td>0.015810</td>\n",
       "      <td>0.018849</td>\n",
       "      <td>0.015669</td>\n",
       "      <td>0.976003</td>\n",
       "      <td>0.960078</td>\n",
       "      <td>0.977361</td>\n",
       "      <td>0.963954</td>\n",
       "    </tr>\n",
       "    <tr>\n",
       "      <th>198</th>\n",
       "      <td>998.png</td>\n",
       "      <td>withoutMask</td>\n",
       "      <td>761.820047</td>\n",
       "      <td>1160.769109</td>\n",
       "      <td>706.391196</td>\n",
       "      <td>1216.333668</td>\n",
       "      <td>0.146487</td>\n",
       "      <td>0.125287</td>\n",
       "      <td>0.163064</td>\n",
       "      <td>0.120549</td>\n",
       "      <td>...</td>\n",
       "      <td>0.000827</td>\n",
       "      <td>0.000474</td>\n",
       "      <td>0.026576</td>\n",
       "      <td>0.022238</td>\n",
       "      <td>0.028765</td>\n",
       "      <td>0.021762</td>\n",
       "      <td>0.939224</td>\n",
       "      <td>0.907447</td>\n",
       "      <td>0.943653</td>\n",
       "      <td>0.903016</td>\n",
       "    </tr>\n",
       "    <tr>\n",
       "      <th>199</th>\n",
       "      <td>999.png</td>\n",
       "      <td>withoutMask</td>\n",
       "      <td>109.011651</td>\n",
       "      <td>158.927789</td>\n",
       "      <td>97.743093</td>\n",
       "      <td>151.436968</td>\n",
       "      <td>0.172071</td>\n",
       "      <td>0.153760</td>\n",
       "      <td>0.199501</td>\n",
       "      <td>0.152279</td>\n",
       "      <td>...</td>\n",
       "      <td>0.000364</td>\n",
       "      <td>0.000242</td>\n",
       "      <td>0.016586</td>\n",
       "      <td>0.015752</td>\n",
       "      <td>0.019074</td>\n",
       "      <td>0.015547</td>\n",
       "      <td>0.990272</td>\n",
       "      <td>0.985807</td>\n",
       "      <td>0.991297</td>\n",
       "      <td>0.986476</td>\n",
       "    </tr>\n",
       "  </tbody>\n",
       "</table>\n",
       "<p>200 rows × 30 columns</p>\n",
       "</div>"
      ],
      "text/plain": [
       "     Filename        Label   Contrast0   Contrast45  Contrast90  Contrast135  \\\n",
       "0    1163.png     withMask   67.385010    95.455268   60.542981   102.357578   \n",
       "1    1174.png     withMask  314.104040   554.471636  356.159573   542.985522   \n",
       "2    1175.png     withMask  879.344351  1031.199582  317.879304  1068.959983   \n",
       "3    1203.png     withMask  223.845892   452.772789  257.164017   410.563695   \n",
       "4    1361.png     withMask   55.918302    91.318607   73.709381    90.531541   \n",
       "..        ...          ...         ...          ...         ...          ...   \n",
       "195   967.png  withoutMask  142.715707   291.512819  209.967849   297.755535   \n",
       "196   972.png  withoutMask  372.509950   616.263669  329.767917   637.508094   \n",
       "197   973.png  withoutMask  281.121276   467.197269  265.107503   421.847433   \n",
       "198   998.png  withoutMask  761.820047  1160.769109  706.391196  1216.333668   \n",
       "199   999.png  withoutMask  109.011651   158.927789   97.743093   151.436968   \n",
       "\n",
       "     Homogeneity0  Homogeneity45  Homogeneity90  Homogeneity135  ...  \\\n",
       "0        0.211112       0.178533       0.214487        0.173149  ...   \n",
       "1        0.187353       0.154650       0.185320        0.153149  ...   \n",
       "2        0.143040       0.116696       0.173255        0.115260  ...   \n",
       "3        0.154254       0.113573       0.144635        0.115242  ...   \n",
       "4        0.229127       0.191224       0.214337        0.188831  ...   \n",
       "..            ...            ...            ...             ...  ...   \n",
       "195      0.216194       0.194488       0.237930        0.188949  ...   \n",
       "196      0.136766       0.108867       0.142811        0.107751  ...   \n",
       "197      0.146686       0.119612       0.147766        0.119506  ...   \n",
       "198      0.146487       0.125287       0.163064        0.120549  ...   \n",
       "199      0.172071       0.153760       0.199501        0.152279  ...   \n",
       "\n",
       "        ASM90    ASM135   Energy0  Energy45  Energy90  Energy135  \\\n",
       "0    0.000261  0.000214  0.015897  0.014697  0.016142   0.014617   \n",
       "1    0.000290  0.000234  0.017922  0.015733  0.017018   0.015304   \n",
       "2    0.001345  0.000498  0.024231  0.022526  0.036675   0.022326   \n",
       "3    0.000232  0.000162  0.015734  0.012362  0.015223   0.012713   \n",
       "4    0.000269  0.000233  0.017146  0.015381  0.016404   0.015271   \n",
       "..        ...       ...       ...       ...       ...        ...   \n",
       "195  0.004663  0.004036  0.064796  0.063916  0.068286   0.063527   \n",
       "196  0.000405  0.000206  0.017733  0.014625  0.020120   0.014366   \n",
       "197  0.000355  0.000246  0.018149  0.015810  0.018849   0.015669   \n",
       "198  0.000827  0.000474  0.026576  0.022238  0.028765   0.021762   \n",
       "199  0.000364  0.000242  0.016586  0.015752  0.019074   0.015547   \n",
       "\n",
       "     Correlation0  Correlation45  Correlation90  Correlation135  \n",
       "0        0.993887       0.991324       0.994506        0.990696  \n",
       "1        0.973139       0.952655       0.969678        0.953636  \n",
       "2        0.926837       0.914049       0.973575        0.910902  \n",
       "3        0.980570       0.960677       0.977723        0.964342  \n",
       "4        0.994961       0.991765       0.993348        0.991836  \n",
       "..            ...            ...            ...             ...  \n",
       "195      0.988592       0.976696       0.983239        0.976197  \n",
       "196      0.968876       0.948478       0.972465        0.946703  \n",
       "197      0.976003       0.960078       0.977361        0.963954  \n",
       "198      0.939224       0.907447       0.943653        0.903016  \n",
       "199      0.990272       0.985807       0.991297        0.986476  \n",
       "\n",
       "[200 rows x 30 columns]"
      ]
     },
     "execution_count": 56,
     "metadata": {},
     "output_type": "execute_result"
    }
   ],
   "source": [
    "dataTable = {'Filename': file_name, 'Label': labels,\n",
    "        'Contrast0': Kontras0, 'Contrast45': Kontras45, 'Contrast90': Kontras90, 'Contrast135': Kontras135,\n",
    "        'Homogeneity0': homogenity0, 'Homogeneity45': homogenity45, 'Homogeneity90': homogenity90, 'Homogeneity135': homogenity135,\n",
    "        'Dissimilarity0': dissimilarity0, 'Dissimilarity45': dissimilarity45, 'Dissimilarity90': dissimilarity90, 'Dissimilarity135': dissimilarity135,\n",
    "        'Entropy0': entropy0, 'Entropy45': entropy45, 'Entropy90': entropy90, 'Entropy135': entropy135,\n",
    "        'ASM0': ASM0, 'ASM45': ASM45, 'ASM90': ASM90, 'ASM135': ASM135,\n",
    "        'Energy0': energy0, 'Energy45': energy45, 'Energy90': energy90, 'Energy135': energy135,\n",
    "        'Correlation0': correlation0, 'Correlation45': correlation45, 'Correlation90': correlation90, 'Correlation135': correlation135,\n",
    "        }\n",
    "df = pd.DataFrame(dataTable)\n",
    "df.to_csv('hasil_ekstraksi_1.csv', index=False)\n",
    "\n",
    "hasilEkstrak = pd.read_csv('hasil_ekstraksi_1.csv')\n",
    "hasilEkstrak\n"
   ]
  },
  {
   "cell_type": "markdown",
   "id": "bc25013c",
   "metadata": {},
   "source": [
    "### Features Selection"
   ]
  },
  {
   "cell_type": "markdown",
   "id": "295a2635",
   "metadata": {},
   "source": [
    "pada bagian seleksi fitur ini bisa menggunakan metode seperti\n",
    "- PCA\n",
    "- LDA\n",
    "- t-SNE\n",
    "- Chi-square\n",
    "- ANOVA\n",
    "- Autoencoder\n",
    "- correlation\n",
    "- dll\n",
    "\n",
    "berikut contoh menggunakan correlation:"
   ]
  },
  {
   "cell_type": "code",
   "execution_count": 57,
   "id": "94195c6b",
   "metadata": {},
   "outputs": [
    {
     "data": {
      "text/plain": [
       "<Axes: >"
      ]
     },
     "execution_count": 57,
     "metadata": {},
     "output_type": "execute_result"
    },
    {
     "data": {
      "image/png": "[encoded data removed]",
      "text/plain": [
       "<Figure size 1700x1700 with 2 Axes>"
      ]
     },
     "metadata": {},
     "output_type": "display_data"
    }
   ],
   "source": [
    "# Menghitung korelasi\n",
    "correlation = hasilEkstrak.drop(columns=['Label','Filename']).corr()\n",
    "\n",
    "# Menyaring fitur yang memiliki korelasi absolut lebih dari 0.95 dengan label\n",
    "threshold = 0.95 # atur threshold ini untuk menentukan seberapa besar korelasi yang ingin disaring\n",
    "selectionFeature = []\n",
    "columns = np.full((correlation.shape[0],), True, dtype=bool)\n",
    "for i in range(correlation.shape[0]):\n",
    "\tfor j in range(i+1, correlation.shape[0]):\n",
    "\t\tif correlation.iloc[i,j] >= threshold:\n",
    "\t\t\tif columns[j]:\n",
    "\t\t\t\tcolumns[j] = False\n",
    "select = hasilEkstrak.drop(columns=['Label','Filename']).columns[columns]\n",
    "x_new = hasilEkstrak[select]\n",
    "x_new\n",
    "y = hasilEkstrak['Label']\n",
    "plt.figure(figsize=(17,17))\n",
    "sns.heatmap(x_new.corr(), annot=True, cmap='Blues', fmt=\".2f\")"
   ]
  },
  {
   "cell_type": "markdown",
   "id": "f1b9ec4e",
   "metadata": {},
   "source": [
    "## Splitting Data"
   ]
  },
  {
   "cell_type": "code",
   "execution_count": 58,
   "id": "d3379d67",
   "metadata": {},
   "outputs": [
    {
     "name": "stdout",
     "output_type": "stream",
     "text": [
      "(160, 7)\n",
      "(40, 7)\n"
     ]
    }
   ],
   "source": [
    "# ubah bagian test_size sesuai kebutuhan\n",
    "# 0.3 = 30% data untuk testing (train/test 70/30)\n",
    "# 0.2 = 20% data untuk testing (train/test 80/20)\n",
    "X_train, X_test, y_train, y_test = train_test_split(x_new, y, test_size=0.2, random_state=42)\n",
    "print(X_train.shape)\n",
    "print(X_test.shape)"
   ]
  },
  {
   "cell_type": "markdown",
   "id": "7b9211d3",
   "metadata": {},
   "source": [
    "## Feature Normalization"
   ]
  },
  {
   "cell_type": "markdown",
   "id": "1d8aa8a4",
   "metadata": {},
   "source": [
    "berikut metode normalisasi yang bisa digunakan:\n",
    "- Min-Max Scaling\n",
    "- Standardization (Z-score)\n",
    "- Robust Scaling\n",
    "- MaxAbsScaler\n",
    "- dll\n",
    "\n",
    "berikut contoh menggunakan Standardization (Z-score):"
   ]
  },
  {
   "cell_type": "code",
   "execution_count": 59,
   "id": "a1bc1f3b",
   "metadata": {},
   "outputs": [],
   "source": [
    "# normalisasi mean std\n",
    "X_test = (X_test - X_train.mean()) / X_train.std()\n",
    "X_train = (X_train - X_train.mean()) / X_train.std()"
   ]
  },
  {
   "cell_type": "markdown",
   "id": "3691931a",
   "metadata": {},
   "source": [
    "## Modeling"
   ]
  },
  {
   "cell_type": "markdown",
   "id": "f844bdef",
   "metadata": {},
   "source": [
    "### Define Model"
   ]
  },
  {
   "cell_type": "code",
   "execution_count": 60,
   "id": "894f0c81",
   "metadata": {},
   "outputs": [],
   "source": [
    "def generateClassificationReport(y_true, y_pred):\n",
    "\tprint(classification_report(y_true, y_pred))\n",
    "\tprint(confusion_matrix(y_true, y_pred))\n",
    "\tprint('Accuracy:', accuracy_score(y_true, y_pred))\n",
    "\n",
    "# Define classifiers\n",
    "rf = RandomForestClassifier(n_estimators=5, random_state=42)\n",
    "svm = SVC(kernel='rbf', random_state=42)\n",
    "knn = KNeighborsClassifier(n_neighbors=5)"
   ]
  },
  {
   "cell_type": "markdown",
   "id": "c5956d20",
   "metadata": {},
   "source": [
    "### Train Random Forest Classifier"
   ]
  },
  {
   "cell_type": "code",
   "execution_count": 61,
   "id": "c9de8e73",
   "metadata": {},
   "outputs": [
    {
     "name": "stdout",
     "output_type": "stream",
     "text": [
      "------Training Set------\n",
      "              precision    recall  f1-score   support\n",
      "\n",
      "    withMask       0.98      1.00      0.99        79\n",
      " withoutMask       1.00      0.98      0.99        81\n",
      "\n",
      "    accuracy                           0.99       160\n",
      "   macro avg       0.99      0.99      0.99       160\n",
      "weighted avg       0.99      0.99      0.99       160\n",
      "\n",
      "[[79  0]\n",
      " [ 2 79]]\n",
      "Accuracy: 0.9875\n",
      "\n",
      "------Testing Set------\n",
      "              precision    recall  f1-score   support\n",
      "\n",
      "    withMask       0.79      0.90      0.84        21\n",
      " withoutMask       0.88      0.74      0.80        19\n",
      "\n",
      "    accuracy                           0.82        40\n",
      "   macro avg       0.83      0.82      0.82        40\n",
      "weighted avg       0.83      0.82      0.82        40\n",
      "\n",
      "[[19  2]\n",
      " [ 5 14]]\n",
      "Accuracy: 0.825\n"
     ]
    }
   ],
   "source": [
    "# Train Random Forest Classifier\n",
    "rf.fit(X_train, y_train)\n",
    "\n",
    "# Make predictions and evaluate the model with the training set\n",
    "print(\"------Training Set------\")\n",
    "y_pred = rf.predict(X_train)\n",
    "generateClassificationReport( y_train, y_pred)\n",
    "\n",
    "# Make predictions and evaluate the model with the testing set\n",
    "print(\"\\n------Testing Set------\")\n",
    "y_pred = rf.predict(X_test)\n",
    "generateClassificationReport( y_test, y_pred)"
   ]
  },
  {
   "cell_type": "markdown",
   "id": "bf14fba6",
   "metadata": {},
   "source": [
    "### Train SVM Classifier"
   ]
  },
  {
   "cell_type": "code",
   "execution_count": 62,
   "id": "25a5a295",
   "metadata": {},
   "outputs": [
    {
     "name": "stdout",
     "output_type": "stream",
     "text": [
      "\n",
      "------Training Set------\n",
      "              precision    recall  f1-score   support\n",
      "\n",
      "    withMask       0.90      0.76      0.82        79\n",
      " withoutMask       0.80      0.91      0.85        81\n",
      "\n",
      "    accuracy                           0.84       160\n",
      "   macro avg       0.85      0.84      0.84       160\n",
      "weighted avg       0.84      0.84      0.84       160\n",
      "\n",
      "[[60 19]\n",
      " [ 7 74]]\n",
      "Accuracy: 0.8375\n",
      "\n",
      "------Testing Set------\n",
      "              precision    recall  f1-score   support\n",
      "\n",
      "    withMask       0.86      0.86      0.86        21\n",
      " withoutMask       0.84      0.84      0.84        19\n",
      "\n",
      "    accuracy                           0.85        40\n",
      "   macro avg       0.85      0.85      0.85        40\n",
      "weighted avg       0.85      0.85      0.85        40\n",
      "\n",
      "[[18  3]\n",
      " [ 3 16]]\n",
      "Accuracy: 0.85\n"
     ]
    }
   ],
   "source": [
    "# Train SVM Classifier\n",
    "svm.fit(X_train, y_train)\n",
    "\n",
    "# Make predictions and evaluate the model with the training set\n",
    "print(\"\\n------Training Set------\")\n",
    "y_pred = svm.predict(X_train)\n",
    "generateClassificationReport( y_train, y_pred)\n",
    "\n",
    "# Make predictions and evaluate the model with the testing set\n",
    "print(\"\\n------Testing Set------\")\n",
    "y_pred = svm.predict(X_test)\n",
    "generateClassificationReport( y_test, y_pred)"
   ]
  },
  {
   "cell_type": "markdown",
   "id": "3cd6aec0",
   "metadata": {},
   "source": [
    "### Train KNN Classifier"
   ]
  },
  {
   "cell_type": "code",
   "execution_count": 63,
   "id": "ce5bd5bf",
   "metadata": {},
   "outputs": [
    {
     "name": "stdout",
     "output_type": "stream",
     "text": [
      "\n",
      "------Training Set------\n",
      "              precision    recall  f1-score   support\n",
      "\n",
      "    withMask       0.91      0.80      0.85        79\n",
      " withoutMask       0.82      0.93      0.87        81\n",
      "\n",
      "    accuracy                           0.86       160\n",
      "   macro avg       0.87      0.86      0.86       160\n",
      "weighted avg       0.87      0.86      0.86       160\n",
      "\n",
      "[[63 16]\n",
      " [ 6 75]]\n",
      "Accuracy: 0.8625\n",
      "\n",
      "------Testing Set------\n",
      "              precision    recall  f1-score   support\n",
      "\n",
      "    withMask       0.86      0.90      0.88        21\n",
      " withoutMask       0.89      0.84      0.86        19\n",
      "\n",
      "    accuracy                           0.88        40\n",
      "   macro avg       0.88      0.87      0.87        40\n",
      "weighted avg       0.88      0.88      0.87        40\n",
      "\n",
      "[[19  2]\n",
      " [ 3 16]]\n",
      "Accuracy: 0.875\n"
     ]
    }
   ],
   "source": [
    "# Train KNN Classifier\n",
    "knn.fit(X_train, y_train)\n",
    "\n",
    "# Make predictions and evaluate the model with the training set\n",
    "print(\"\\n------Training Set------\")\n",
    "y_pred = knn.predict(X_train)\n",
    "generateClassificationReport( y_train, y_pred)\n",
    "\n",
    "# Make predictions and evaluate the model with the testing set\n",
    "print(\"\\n------Testing Set------\")\n",
    "y_pred = knn.predict(X_test)\n",
    "generateClassificationReport( y_test, y_pred)\n"
   ]
  },
  {
   "cell_type": "markdown",
   "id": "21ffd913",
   "metadata": {},
   "source": [
    "## Evaluation With Confusion Matrix"
   ]
  },
  {
   "cell_type": "code",
   "execution_count": 64,
   "id": "b3608486",
   "metadata": {},
   "outputs": [
    {
     "data": {
      "image/png": "[encoded data removed]",
      "text/plain": [
       "<Figure size 640x480 with 2 Axes>"
      ]
     },
     "metadata": {},
     "output_type": "display_data"
    },
    {
     "data": {
      "image/png": "[encoded data removed]",
      "text/plain": [
       "<Figure size 640x480 with 2 Axes>"
      ]
     },
     "metadata": {},
     "output_type": "display_data"
    },
    {
     "data": {
      "image/png": "[encoded data removed]",
      "text/plain": [
       "<Figure size 640x480 with 2 Axes>"
      ]
     },
     "metadata": {},
     "output_type": "display_data"
    }
   ],
   "source": [
    "def plot_confusion_matrix(y_true, y_pred, title):\n",
    "    cm = confusion_matrix(y_true, y_pred)\n",
    "    disp = ConfusionMatrixDisplay(confusion_matrix=cm)\n",
    "    disp.plot(cmap=plt.cm.Blues)\n",
    "    plt.title(title)\n",
    "    plt.show()\n",
    "\n",
    "# Plot confusion matrix for Random Forest\n",
    "plot_confusion_matrix(y_test, rf.predict(X_test), \"Random Forest Confusion Matrix\")\n",
    "# Plot confusion matrix for SVM\n",
    "plot_confusion_matrix(y_test, svm.predict(X_test), \"SVM Confusion Matrix\")\n",
    "# Plot confusion matrix for KNN\n",
    "plot_confusion_matrix(y_test, knn.predict(X_test), \"KNN Confusion Matrix\")"
   ]
  }
 ],
 "metadata": {
  "kernelspec": {
   "display_name": "Python 3",
   "language": "python",
   "name": "python3"
  },
  "language_info": {
   "codemirror_mode": {
    "name": "ipython",
    "version": 3
   },
   "file_extension": ".py",
   "mimetype": "text/x-python",
   "name": "python",
   "nbconvert_exporter": "python",
   "pygments_lexer": "ipython3",
   "version": "3.12.2"
  }
 },
 "nbformat": 4,
 "nbformat_minor": 5
}

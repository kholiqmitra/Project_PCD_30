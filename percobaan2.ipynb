{
 "cells": [
  {
   "cell_type": "code",
   "execution_count": 33,
   "id": "11407dce",
   "metadata": {},
   "outputs": [],
   "source": [
    "# Import library yang kalian butuhkan\n",
    "import os\n",
    "import cv2 as cv\n",
    "import matplotlib.pyplot as plt\n",
    "import numpy as np\n",
    "import pandas as pd\n",
    "from sklearn.model_selection import train_test_split, cross_val_predict\n",
    "from sklearn.metrics import accuracy_score, classification_report\n",
    "from skimage.feature import graycomatrix, graycoprops\n",
    "from scipy.stats import entropy\n",
    "from sklearn.ensemble import RandomForestClassifier\n",
    "from sklearn.svm import SVC\n",
    "from sklearn.neighbors import KNeighborsClassifier\n",
    "from sklearn.metrics import accuracy_score, precision_score, recall_score, f1_score, confusion_matrix, classification_report\n",
    "from sklearn.metrics import (confusion_matrix, ConfusionMatrixDisplay)\n",
    "import seaborn as sns\n",
    "import pywt"
   ]
  },
  {
   "cell_type": "markdown",
   "id": "61070500",
   "metadata": {},
   "source": [
    "## Data Loading"
   ]
  },
  {
   "cell_type": "markdown",
   "id": "3988bbac",
   "metadata": {},
   "source": [
    "Buat struktur folder dataset sebagai berikut:\n",
    "```\n",
    ".\n",
    "└──dataset\n",
    "    ├── label1\n",
    "\t├── image1.jpg\n",
    "\t├── image2.jpg\n",
    "\t└── image3.jpg\n",
    "    ├── label2\n",
    "    └── label3\n",
    "    └── dst...\n",
    "```"
   ]
  },
  {
   "cell_type": "code",
   "execution_count": 34,
   "id": "13667b0c",
   "metadata": {},
   "outputs": [],
   "source": [
    "data = []\n",
    "labels = []\n",
    "file_name = []\n",
    "\n",
    "for sub_folder in os.listdir(\"dataset\\\\\"):\n",
    "    sub_folder_files = os.listdir(os.path.join(\"dataset\\\\\", sub_folder))\n",
    "    for i, filename in enumerate(sub_folder_files):\n",
    "        img_path = os.path.join(\"dataset\\\\\", sub_folder, filename)\n",
    "        img = cv.imread(img_path)\n",
    "        img = cv.resize(img, (224, 224))\n",
    "        img = img.astype(np.uint8)\n",
    "        img = cv.cvtColor(img, cv.COLOR_BGR2GRAY)\n",
    "        \n",
    "        data.append(img)\n",
    "        labels.append(sub_folder)\n",
    "        name = os.path.splitext(filename)[0]\n",
    "        file_name.append(filename)\n",
    "        \n",
    "data = np.array(data)\n",
    "labels = np.array(labels)"
   ]
  },
  {
   "cell_type": "markdown",
   "id": "e10916d0",
   "metadata": {},
   "source": [
    "## Data Augmentation"
   ]
  },
  {
   "cell_type": "markdown",
   "id": "d3c2b121",
   "metadata": {},
   "source": [
    "### Define Augmentation Function\n"
   ]
  },
  {
   "cell_type": "code",
   "execution_count": 35,
   "id": "69f39359",
   "metadata": {},
   "outputs": [],
   "source": [
    "# melakukan augmentasi data\n",
    "data_augmented = []\n",
    "labels_augmented = []\n",
    "paths_augmented = []\n",
    "file_name_augmented = []\n",
    "angles = [0, 45, 90, 135]\n",
    "\n",
    "for i in range(len(data)):\n",
    "    img = data[i]\n",
    "    label = labels[i]\n",
    "    name = file_name[i]\n",
    "    \n",
    "    (h, w) = img.shape[:2]\n",
    "    center = (w // 2, h // 2)\n",
    "    \n",
    "    for angle in angles:\n",
    "        M = cv.getRotationMatrix2D(center, angle, 1.0)\n",
    "        rotated = cv.warpAffine(img, M, (w, h))\n",
    "        \n",
    "        data_augmented.append(rotated)\n",
    "        labels_augmented.append(label)\n",
    "        # Tambah keterangan rotasi ke nama file\n",
    "        file_name_augmented.append(f\"{os.path.splitext(name)[0]}_rot{angle}.jpg\")\n",
    "\n",
    "data_augmented = np.array(data_augmented)\n",
    "labels_augmented = np.array(labels_augmented)"
   ]
  },
  {
   "cell_type": "code",
   "execution_count": 36,
   "id": "0c49d5a5",
   "metadata": {},
   "outputs": [
    {
     "name": "stdout",
     "output_type": "stream",
     "text": [
      "Data sebelum augmentasi:  200\n",
      "Data setelah augmentasi:  800\n"
     ]
    }
   ],
   "source": [
    "print(\"Data sebelum augmentasi: \", len(data))\n",
    "print(\"Data setelah augmentasi: \", len(data_augmented))"
   ]
  },
  {
   "cell_type": "markdown",
   "id": "565d5dcf",
   "metadata": {},
   "source": [
    "## Data Preparation"
   ]
  },
  {
   "cell_type": "markdown",
   "id": "67afc4b6",
   "metadata": {},
   "source": [
    "### Define Preprocessing Function\n"
   ]
  },
  {
   "cell_type": "code",
   "execution_count": 37,
   "id": "2bf0800b",
   "metadata": {},
   "outputs": [],
   "source": [
    "def prepro1(img):\n",
    "    img_eq = cv.equalizeHist(img)\n",
    "\n",
    "    kernel = np.array([[0, -1, 0],\n",
    "                       [-1, 5, -1],\n",
    "                       [0, -1, 0]])\n",
    "    sharp_img = cv.filter2D(img_eq, -1, kernel)\n",
    "    return sharp_img\n",
    "\n",
    "def prepro2(img):\n",
    "    img_eq = cv.equalizeHist(img)\n",
    "\n",
    "    kernel = np.array([[0, -1, 0],\n",
    "                       [-1, 5, -1],\n",
    "                       [0, -1, 0]])\n",
    "    sharp_img = cv.filter2D(img_eq, -1, kernel)\n",
    "\n",
    "    median_img = cv.medianBlur(sharp_img, 3)\n",
    "    img_blur = cv.GaussianBlur(median_img, (3,3), 0)\n",
    "    return img_blur\n",
    "\n",
    "def prepro3(img):\n",
    "    img_eq = cv.equalizeHist(img)\n",
    "\n",
    "    kernel = np.array([[0, -1, 0],\n",
    "                       [-1, 5, -1],\n",
    "                       [0, -1, 0]])\n",
    "    sharp_img = cv.filter2D(img_eq, -1, kernel)\n",
    "\n",
    "    median_img = cv.medianBlur(sharp_img, 3)\n",
    "    img_blur = cv.GaussianBlur(median_img, (3,3), 0)\n",
    "    return img_blur"
   ]
  },
  {
   "cell_type": "markdown",
   "id": "7a33f5eb",
   "metadata": {},
   "source": [
    "### Preprocessing"
   ]
  },
  {
   "cell_type": "code",
   "execution_count": 38,
   "id": "5c5f3eb1",
   "metadata": {},
   "outputs": [],
   "source": [
    "# pada bagian ini bisa gunakan data yang sebelum augmentasi atau setelah augmentasi\n",
    "dataPreprocessed = []\n",
    "for i in range(len(data)): # Loop through each image and do preprocessing\n",
    "\timg = data[i]\n",
    "    # coba pakai salah satu prepro, misal prepro1\n",
    "\timg_proc = prepro2(img)\n",
    "\tdataPreprocessed.append(img_proc)"
   ]
  },
  {
   "cell_type": "markdown",
   "id": "a69f01fb",
   "metadata": {},
   "source": [
    "### Feature Extraction"
   ]
  },
  {
   "cell_type": "code",
   "execution_count": 39,
   "id": "0acf98ad",
   "metadata": {},
   "outputs": [],
   "source": [
    "def glcm(image, derajat):\n",
    "    if derajat == 0:\n",
    "        angles = [0]\n",
    "    elif derajat == 45:\n",
    "        angles = [np.pi / 4]\n",
    "    elif derajat == 90:\n",
    "        angles = [np.pi / 2]\n",
    "    elif derajat == 135:\n",
    "        angles = [3 * np.pi / 4]\n",
    "    else:\n",
    "        raise ValueError(\"Invalid angle. It should be one of the following: 0, 45, 90, 135.\")\n",
    "    \n",
    "    # mengembalikan matrix glcm dari image\n",
    "    glcm = graycomatrix(image, [1], angles, 256, symmetric=True, normed=True)\n",
    "    return glcm"
   ]
  },
  {
   "cell_type": "code",
   "execution_count": 40,
   "id": "06fde76b",
   "metadata": {},
   "outputs": [],
   "source": [
    "def correlation(matriks):\n",
    "\treturn graycoprops(matriks, 'correlation')[0, 0]"
   ]
  },
  {
   "cell_type": "code",
   "execution_count": 41,
   "id": "3a384121",
   "metadata": {},
   "outputs": [],
   "source": [
    "def dissimilarity(matriks):\n",
    "    return graycoprops(matriks, 'dissimilarity')[0, 0]"
   ]
  },
  {
   "cell_type": "code",
   "execution_count": 42,
   "id": "a87cff2a",
   "metadata": {},
   "outputs": [],
   "source": [
    "def homogenity(matriks):\n",
    "    return graycoprops(matriks, 'homogeneity')[0, 0]"
   ]
  },
  {
   "cell_type": "code",
   "execution_count": 43,
   "id": "9a3e2c37",
   "metadata": {},
   "outputs": [],
   "source": [
    "def contrast(matriks):\n",
    "    return graycoprops(matriks, 'contrast')[0, 0]"
   ]
  },
  {
   "cell_type": "code",
   "execution_count": 44,
   "id": "2079e288",
   "metadata": {},
   "outputs": [],
   "source": [
    "def ASM(matriks):\n",
    "    return graycoprops(matriks, 'ASM')[0, 0]"
   ]
  },
  {
   "cell_type": "code",
   "execution_count": 45,
   "id": "0e2624f3",
   "metadata": {},
   "outputs": [],
   "source": [
    "def energy(matriks):\n",
    "    return graycoprops(matriks, 'energy')[0, 0]"
   ]
  },
  {
   "cell_type": "code",
   "execution_count": 46,
   "id": "12dd9e09",
   "metadata": {},
   "outputs": [],
   "source": [
    "def entropyGlcm(matriks):\n",
    "    return entropy(matriks.ravel())"
   ]
  },
  {
   "cell_type": "code",
   "execution_count": 47,
   "id": "3e72ce91",
   "metadata": {},
   "outputs": [],
   "source": [
    "Derajat0 = []\n",
    "Derajat45 = []\n",
    "Derajat90 = []\n",
    "Derajat135 = []\n",
    "for i in range(len(dataPreprocessed)):\n",
    "    D0 = glcm(dataPreprocessed[i], 0)\n",
    "    D45 = glcm(dataPreprocessed[i], 45)\n",
    "    D90 = glcm(dataPreprocessed[i], 90)\n",
    "    D135 = glcm(dataPreprocessed[i], 135)\n",
    "    Derajat0.append(D0)\n",
    "    Derajat45.append(D45)\n",
    "    Derajat90.append(D90)\n",
    "    Derajat135.append(D135)"
   ]
  },
  {
   "cell_type": "code",
   "execution_count": 48,
   "id": "83edbe12",
   "metadata": {},
   "outputs": [],
   "source": [
    "Kontras0, Kontras45, Kontras90, Kontras135 = [], [], [], []\n",
    "dissimilarity0, dissimilarity45, dissimilarity90, dissimilarity135 =  [], [], [], []\n",
    "homogenity0, homogenity45, homogenity90, homogenity135 = [], [], [], []\n",
    "entropy0, entropy45, entropy90, entropy135 =  [], [], [], []\n",
    "ASM0, ASM45, ASM90, ASM135 =  [], [], [], []\n",
    "energy0, energy45, energy90, energy135 =  [], [], [], []\n",
    "correlation0, correlation45, correlation90, correlation135 = [], [], [], []\n"
   ]
  },
  {
   "cell_type": "code",
   "execution_count": 49,
   "id": "4c5ab53a",
   "metadata": {},
   "outputs": [],
   "source": [
    "for i in range(len(dataPreprocessed)):\n",
    "    C0 = correlation(Derajat0[i])\n",
    "    correlation0.append(C0)\n",
    "    C45 = correlation(Derajat45[i])\n",
    "    correlation45.append(C45)\n",
    "    C90 = correlation(Derajat90[i])\n",
    "    correlation90.append(C90)\n",
    "    C135 = correlation(Derajat135[i])\n",
    "    correlation135.append(C135)"
   ]
  },
  {
   "cell_type": "code",
   "execution_count": 50,
   "id": "ecca76dc",
   "metadata": {},
   "outputs": [],
   "source": [
    "for i in range(len(data)):\n",
    "    K0 = contrast(Derajat0[i])\n",
    "    K45 = contrast(Derajat45[i])\n",
    "    K90 = contrast(Derajat90[i])\n",
    "    K135 = contrast(Derajat135[i])\n",
    "    Kontras0.append(K0)\n",
    "    Kontras45.append(K45)\n",
    "    Kontras90.append(K90)\n",
    "    Kontras135.append(K135)"
   ]
  },
  {
   "cell_type": "code",
   "execution_count": 51,
   "id": "d9872d61",
   "metadata": {},
   "outputs": [],
   "source": [
    "for i in range(len(data)):\n",
    "    Dis0 = dissimilarity(Derajat0[i])\n",
    "    Dis45 = dissimilarity(Derajat45[i])\n",
    "    Dis90 = dissimilarity(Derajat90[i])\n",
    "    Dis135 = dissimilarity(Derajat135[i])\n",
    "    dissimilarity0.append(Dis0)\n",
    "    dissimilarity45.append(Dis45)\n",
    "    dissimilarity90.append(Dis90)\n",
    "    dissimilarity135.append(Dis135)"
   ]
  },
  {
   "cell_type": "code",
   "execution_count": 52,
   "id": "a5d3ca60",
   "metadata": {},
   "outputs": [],
   "source": [
    "for i in range(len(data)):\n",
    "    H0 = homogenity(Derajat0[i])\n",
    "    H45 = homogenity(Derajat45[i])\n",
    "    H90 = homogenity(Derajat90[i])\n",
    "    H135 = homogenity(Derajat135[i])\n",
    "    homogenity0.append(H0)\n",
    "    homogenity45.append(H45)\n",
    "    homogenity90.append(H90)\n",
    "    homogenity135.append(H135)"
   ]
  },
  {
   "cell_type": "code",
   "execution_count": 53,
   "id": "161e4d0c",
   "metadata": {},
   "outputs": [],
   "source": [
    "for i in range(len(data)):  \n",
    "    E0 = entropyGlcm(Derajat0[i])\n",
    "    E45 = entropyGlcm(Derajat45[i])\n",
    "    E90 = entropyGlcm(Derajat90[i])\n",
    "    E135 = entropyGlcm(Derajat135[i])\n",
    "    entropy0.append(E0)\n",
    "    entropy45.append(E45)\n",
    "    entropy90.append(E90)\n",
    "    entropy135.append(E135)"
   ]
  },
  {
   "cell_type": "code",
   "execution_count": 54,
   "id": "c5b61df4",
   "metadata": {},
   "outputs": [],
   "source": [
    "for i in range(len(data)):\n",
    "    A0 = ASM(Derajat0[i])\n",
    "    A45 = ASM(Derajat45[i])\n",
    "    A90 = ASM(Derajat90[i])\n",
    "    A135 = ASM(Derajat135[i])\n",
    "    ASM0.append(A0)\n",
    "    ASM45.append(A45)\n",
    "    ASM90.append(A90)\n",
    "    ASM135.append(A135)"
   ]
  },
  {
   "cell_type": "code",
   "execution_count": 55,
   "id": "c8395c8a",
   "metadata": {},
   "outputs": [],
   "source": [
    "for i in range(len(data)):\n",
    "    ER0 = energy(Derajat0[i])\n",
    "    ER45 = energy(Derajat45[i])\n",
    "    ER90 = energy(Derajat90[i])\n",
    "    ER135 = energy(Derajat135[i])\n",
    "    energy0.append(ER0)\n",
    "    energy45.append(ER45)\n",
    "    energy90.append(ER90)\n",
    "    energy135.append(ER135)"
   ]
  },
  {
   "cell_type": "markdown",
   "id": "89a4c3ba",
   "metadata": {},
   "source": [
    "### Write the extraction's results to CSV "
   ]
  },
  {
   "cell_type": "code",
   "execution_count": 56,
   "id": "f8841ab6",
   "metadata": {},
   "outputs": [
    {
     "data": {
      "text/html": [
       "<div>\n",
       "<style scoped>\n",
       "    .dataframe tbody tr th:only-of-type {\n",
       "        vertical-align: middle;\n",
       "    }\n",
       "\n",
       "    .dataframe tbody tr th {\n",
       "        vertical-align: top;\n",
       "    }\n",
       "\n",
       "    .dataframe thead th {\n",
       "        text-align: right;\n",
       "    }\n",
       "</style>\n",
       "<table border=\"1\" class=\"dataframe\">\n",
       "  <thead>\n",
       "    <tr style=\"text-align: right;\">\n",
       "      <th></th>\n",
       "      <th>Filename</th>\n",
       "      <th>Label</th>\n",
       "      <th>Contrast0</th>\n",
       "      <th>Contrast45</th>\n",
       "      <th>Contrast90</th>\n",
       "      <th>Contrast135</th>\n",
       "      <th>Homogeneity0</th>\n",
       "      <th>Homogeneity45</th>\n",
       "      <th>Homogeneity90</th>\n",
       "      <th>Homogeneity135</th>\n",
       "      <th>...</th>\n",
       "      <th>ASM90</th>\n",
       "      <th>ASM135</th>\n",
       "      <th>Energy0</th>\n",
       "      <th>Energy45</th>\n",
       "      <th>Energy90</th>\n",
       "      <th>Energy135</th>\n",
       "      <th>Correlation0</th>\n",
       "      <th>Correlation45</th>\n",
       "      <th>Correlation90</th>\n",
       "      <th>Correlation135</th>\n",
       "    </tr>\n",
       "  </thead>\n",
       "  <tbody>\n",
       "    <tr>\n",
       "      <th>0</th>\n",
       "      <td>1163.png</td>\n",
       "      <td>withMask</td>\n",
       "      <td>26.982743</td>\n",
       "      <td>46.118583</td>\n",
       "      <td>22.662496</td>\n",
       "      <td>52.037141</td>\n",
       "      <td>0.351648</td>\n",
       "      <td>0.264436</td>\n",
       "      <td>0.354483</td>\n",
       "      <td>0.252193</td>\n",
       "      <td>...</td>\n",
       "      <td>0.000457</td>\n",
       "      <td>0.000300</td>\n",
       "      <td>0.020967</td>\n",
       "      <td>0.017781</td>\n",
       "      <td>0.021384</td>\n",
       "      <td>0.017309</td>\n",
       "      <td>0.997517</td>\n",
       "      <td>0.995748</td>\n",
       "      <td>0.997914</td>\n",
       "      <td>0.995202</td>\n",
       "    </tr>\n",
       "    <tr>\n",
       "      <th>1</th>\n",
       "      <td>1174.png</td>\n",
       "      <td>withMask</td>\n",
       "      <td>97.335422</td>\n",
       "      <td>201.264011</td>\n",
       "      <td>109.565943</td>\n",
       "      <td>195.119970</td>\n",
       "      <td>0.337811</td>\n",
       "      <td>0.255993</td>\n",
       "      <td>0.339345</td>\n",
       "      <td>0.263862</td>\n",
       "      <td>...</td>\n",
       "      <td>0.000403</td>\n",
       "      <td>0.000290</td>\n",
       "      <td>0.020351</td>\n",
       "      <td>0.017037</td>\n",
       "      <td>0.020071</td>\n",
       "      <td>0.017038</td>\n",
       "      <td>0.991283</td>\n",
       "      <td>0.982002</td>\n",
       "      <td>0.990230</td>\n",
       "      <td>0.982551</td>\n",
       "    </tr>\n",
       "    <tr>\n",
       "      <th>2</th>\n",
       "      <td>1175.png</td>\n",
       "      <td>withMask</td>\n",
       "      <td>215.195928</td>\n",
       "      <td>268.919222</td>\n",
       "      <td>68.662556</td>\n",
       "      <td>286.022381</td>\n",
       "      <td>0.227938</td>\n",
       "      <td>0.172496</td>\n",
       "      <td>0.274065</td>\n",
       "      <td>0.171801</td>\n",
       "      <td>...</td>\n",
       "      <td>0.000325</td>\n",
       "      <td>0.000173</td>\n",
       "      <td>0.015122</td>\n",
       "      <td>0.013064</td>\n",
       "      <td>0.018037</td>\n",
       "      <td>0.013146</td>\n",
       "      <td>0.980713</td>\n",
       "      <td>0.975854</td>\n",
       "      <td>0.993853</td>\n",
       "      <td>0.974319</td>\n",
       "    </tr>\n",
       "    <tr>\n",
       "      <th>3</th>\n",
       "      <td>1203.png</td>\n",
       "      <td>withMask</td>\n",
       "      <td>76.115010</td>\n",
       "      <td>171.792616</td>\n",
       "      <td>85.465107</td>\n",
       "      <td>143.964970</td>\n",
       "      <td>0.264414</td>\n",
       "      <td>0.178127</td>\n",
       "      <td>0.232859</td>\n",
       "      <td>0.182802</td>\n",
       "      <td>...</td>\n",
       "      <td>0.000269</td>\n",
       "      <td>0.000197</td>\n",
       "      <td>0.017179</td>\n",
       "      <td>0.013890</td>\n",
       "      <td>0.016403</td>\n",
       "      <td>0.014048</td>\n",
       "      <td>0.993059</td>\n",
       "      <td>0.984323</td>\n",
       "      <td>0.992223</td>\n",
       "      <td>0.986862</td>\n",
       "    </tr>\n",
       "    <tr>\n",
       "      <th>4</th>\n",
       "      <td>1361.png</td>\n",
       "      <td>withMask</td>\n",
       "      <td>17.425308</td>\n",
       "      <td>46.221923</td>\n",
       "      <td>28.680053</td>\n",
       "      <td>45.393352</td>\n",
       "      <td>0.410545</td>\n",
       "      <td>0.289607</td>\n",
       "      <td>0.383017</td>\n",
       "      <td>0.283569</td>\n",
       "      <td>...</td>\n",
       "      <td>0.000503</td>\n",
       "      <td>0.000335</td>\n",
       "      <td>0.023671</td>\n",
       "      <td>0.018464</td>\n",
       "      <td>0.022418</td>\n",
       "      <td>0.018294</td>\n",
       "      <td>0.998413</td>\n",
       "      <td>0.995787</td>\n",
       "      <td>0.997384</td>\n",
       "      <td>0.995863</td>\n",
       "    </tr>\n",
       "    <tr>\n",
       "      <th>...</th>\n",
       "      <td>...</td>\n",
       "      <td>...</td>\n",
       "      <td>...</td>\n",
       "      <td>...</td>\n",
       "      <td>...</td>\n",
       "      <td>...</td>\n",
       "      <td>...</td>\n",
       "      <td>...</td>\n",
       "      <td>...</td>\n",
       "      <td>...</td>\n",
       "      <td>...</td>\n",
       "      <td>...</td>\n",
       "      <td>...</td>\n",
       "      <td>...</td>\n",
       "      <td>...</td>\n",
       "      <td>...</td>\n",
       "      <td>...</td>\n",
       "      <td>...</td>\n",
       "      <td>...</td>\n",
       "      <td>...</td>\n",
       "      <td>...</td>\n",
       "    </tr>\n",
       "    <tr>\n",
       "      <th>195</th>\n",
       "      <td>967.png</td>\n",
       "      <td>withoutMask</td>\n",
       "      <td>46.826634</td>\n",
       "      <td>120.499145</td>\n",
       "      <td>78.723134</td>\n",
       "      <td>126.871705</td>\n",
       "      <td>0.300307</td>\n",
       "      <td>0.262977</td>\n",
       "      <td>0.346987</td>\n",
       "      <td>0.248997</td>\n",
       "      <td>...</td>\n",
       "      <td>0.003227</td>\n",
       "      <td>0.002677</td>\n",
       "      <td>0.053416</td>\n",
       "      <td>0.052334</td>\n",
       "      <td>0.056806</td>\n",
       "      <td>0.051743</td>\n",
       "      <td>0.996162</td>\n",
       "      <td>0.990121</td>\n",
       "      <td>0.993556</td>\n",
       "      <td>0.989599</td>\n",
       "    </tr>\n",
       "    <tr>\n",
       "      <th>196</th>\n",
       "      <td>972.png</td>\n",
       "      <td>withoutMask</td>\n",
       "      <td>143.812100</td>\n",
       "      <td>260.799835</td>\n",
       "      <td>130.984425</td>\n",
       "      <td>278.788353</td>\n",
       "      <td>0.217597</td>\n",
       "      <td>0.159923</td>\n",
       "      <td>0.215774</td>\n",
       "      <td>0.160014</td>\n",
       "      <td>...</td>\n",
       "      <td>0.000246</td>\n",
       "      <td>0.000176</td>\n",
       "      <td>0.015666</td>\n",
       "      <td>0.013223</td>\n",
       "      <td>0.015689</td>\n",
       "      <td>0.013262</td>\n",
       "      <td>0.987236</td>\n",
       "      <td>0.976837</td>\n",
       "      <td>0.988385</td>\n",
       "      <td>0.975240</td>\n",
       "    </tr>\n",
       "    <tr>\n",
       "      <th>197</th>\n",
       "      <td>973.png</td>\n",
       "      <td>withoutMask</td>\n",
       "      <td>106.396421</td>\n",
       "      <td>210.043194</td>\n",
       "      <td>90.935098</td>\n",
       "      <td>176.524845</td>\n",
       "      <td>0.231509</td>\n",
       "      <td>0.176318</td>\n",
       "      <td>0.232156</td>\n",
       "      <td>0.173263</td>\n",
       "      <td>...</td>\n",
       "      <td>0.000267</td>\n",
       "      <td>0.000190</td>\n",
       "      <td>0.016063</td>\n",
       "      <td>0.013735</td>\n",
       "      <td>0.016334</td>\n",
       "      <td>0.013778</td>\n",
       "      <td>0.990513</td>\n",
       "      <td>0.981251</td>\n",
       "      <td>0.991889</td>\n",
       "      <td>0.984243</td>\n",
       "    </tr>\n",
       "    <tr>\n",
       "      <th>198</th>\n",
       "      <td>998.png</td>\n",
       "      <td>withoutMask</td>\n",
       "      <td>217.409253</td>\n",
       "      <td>391.496612</td>\n",
       "      <td>202.126902</td>\n",
       "      <td>421.889099</td>\n",
       "      <td>0.218909</td>\n",
       "      <td>0.176792</td>\n",
       "      <td>0.236955</td>\n",
       "      <td>0.172526</td>\n",
       "      <td>...</td>\n",
       "      <td>0.000454</td>\n",
       "      <td>0.000328</td>\n",
       "      <td>0.020309</td>\n",
       "      <td>0.018193</td>\n",
       "      <td>0.021303</td>\n",
       "      <td>0.018106</td>\n",
       "      <td>0.980901</td>\n",
       "      <td>0.965622</td>\n",
       "      <td>0.982247</td>\n",
       "      <td>0.962953</td>\n",
       "    </tr>\n",
       "    <tr>\n",
       "      <th>199</th>\n",
       "      <td>999.png</td>\n",
       "      <td>withoutMask</td>\n",
       "      <td>33.865591</td>\n",
       "      <td>62.577108</td>\n",
       "      <td>27.816824</td>\n",
       "      <td>58.598202</td>\n",
       "      <td>0.276128</td>\n",
       "      <td>0.228699</td>\n",
       "      <td>0.362840</td>\n",
       "      <td>0.231838</td>\n",
       "      <td>...</td>\n",
       "      <td>0.000479</td>\n",
       "      <td>0.000287</td>\n",
       "      <td>0.019264</td>\n",
       "      <td>0.016972</td>\n",
       "      <td>0.021897</td>\n",
       "      <td>0.016956</td>\n",
       "      <td>0.996920</td>\n",
       "      <td>0.994305</td>\n",
       "      <td>0.997476</td>\n",
       "      <td>0.994667</td>\n",
       "    </tr>\n",
       "  </tbody>\n",
       "</table>\n",
       "<p>200 rows × 30 columns</p>\n",
       "</div>"
      ],
      "text/plain": [
       "     Filename        Label   Contrast0  Contrast45  Contrast90  Contrast135  \\\n",
       "0    1163.png     withMask   26.982743   46.118583   22.662496    52.037141   \n",
       "1    1174.png     withMask   97.335422  201.264011  109.565943   195.119970   \n",
       "2    1175.png     withMask  215.195928  268.919222   68.662556   286.022381   \n",
       "3    1203.png     withMask   76.115010  171.792616   85.465107   143.964970   \n",
       "4    1361.png     withMask   17.425308   46.221923   28.680053    45.393352   \n",
       "..        ...          ...         ...         ...         ...          ...   \n",
       "195   967.png  withoutMask   46.826634  120.499145   78.723134   126.871705   \n",
       "196   972.png  withoutMask  143.812100  260.799835  130.984425   278.788353   \n",
       "197   973.png  withoutMask  106.396421  210.043194   90.935098   176.524845   \n",
       "198   998.png  withoutMask  217.409253  391.496612  202.126902   421.889099   \n",
       "199   999.png  withoutMask   33.865591   62.577108   27.816824    58.598202   \n",
       "\n",
       "     Homogeneity0  Homogeneity45  Homogeneity90  Homogeneity135  ...  \\\n",
       "0        0.351648       0.264436       0.354483        0.252193  ...   \n",
       "1        0.337811       0.255993       0.339345        0.263862  ...   \n",
       "2        0.227938       0.172496       0.274065        0.171801  ...   \n",
       "3        0.264414       0.178127       0.232859        0.182802  ...   \n",
       "4        0.410545       0.289607       0.383017        0.283569  ...   \n",
       "..            ...            ...            ...             ...  ...   \n",
       "195      0.300307       0.262977       0.346987        0.248997  ...   \n",
       "196      0.217597       0.159923       0.215774        0.160014  ...   \n",
       "197      0.231509       0.176318       0.232156        0.173263  ...   \n",
       "198      0.218909       0.176792       0.236955        0.172526  ...   \n",
       "199      0.276128       0.228699       0.362840        0.231838  ...   \n",
       "\n",
       "        ASM90    ASM135   Energy0  Energy45  Energy90  Energy135  \\\n",
       "0    0.000457  0.000300  0.020967  0.017781  0.021384   0.017309   \n",
       "1    0.000403  0.000290  0.020351  0.017037  0.020071   0.017038   \n",
       "2    0.000325  0.000173  0.015122  0.013064  0.018037   0.013146   \n",
       "3    0.000269  0.000197  0.017179  0.013890  0.016403   0.014048   \n",
       "4    0.000503  0.000335  0.023671  0.018464  0.022418   0.018294   \n",
       "..        ...       ...       ...       ...       ...        ...   \n",
       "195  0.003227  0.002677  0.053416  0.052334  0.056806   0.051743   \n",
       "196  0.000246  0.000176  0.015666  0.013223  0.015689   0.013262   \n",
       "197  0.000267  0.000190  0.016063  0.013735  0.016334   0.013778   \n",
       "198  0.000454  0.000328  0.020309  0.018193  0.021303   0.018106   \n",
       "199  0.000479  0.000287  0.019264  0.016972  0.021897   0.016956   \n",
       "\n",
       "     Correlation0  Correlation45  Correlation90  Correlation135  \n",
       "0        0.997517       0.995748       0.997914        0.995202  \n",
       "1        0.991283       0.982002       0.990230        0.982551  \n",
       "2        0.980713       0.975854       0.993853        0.974319  \n",
       "3        0.993059       0.984323       0.992223        0.986862  \n",
       "4        0.998413       0.995787       0.997384        0.995863  \n",
       "..            ...            ...            ...             ...  \n",
       "195      0.996162       0.990121       0.993556        0.989599  \n",
       "196      0.987236       0.976837       0.988385        0.975240  \n",
       "197      0.990513       0.981251       0.991889        0.984243  \n",
       "198      0.980901       0.965622       0.982247        0.962953  \n",
       "199      0.996920       0.994305       0.997476        0.994667  \n",
       "\n",
       "[200 rows x 30 columns]"
      ]
     },
     "execution_count": 56,
     "metadata": {},
     "output_type": "execute_result"
    }
   ],
   "source": [
    "dataTable = {'Filename': file_name, 'Label': labels,\n",
    "        'Contrast0': Kontras0, 'Contrast45': Kontras45, 'Contrast90': Kontras90, 'Contrast135': Kontras135,\n",
    "        'Homogeneity0': homogenity0, 'Homogeneity45': homogenity45, 'Homogeneity90': homogenity90, 'Homogeneity135': homogenity135,\n",
    "        'Dissimilarity0': dissimilarity0, 'Dissimilarity45': dissimilarity45, 'Dissimilarity90': dissimilarity90, 'Dissimilarity135': dissimilarity135,\n",
    "        'Entropy0': entropy0, 'Entropy45': entropy45, 'Entropy90': entropy90, 'Entropy135': entropy135,\n",
    "        'ASM0': ASM0, 'ASM45': ASM45, 'ASM90': ASM90, 'ASM135': ASM135,\n",
    "        'Energy0': energy0, 'Energy45': energy45, 'Energy90': energy90, 'Energy135': energy135,\n",
    "        'Correlation0': correlation0, 'Correlation45': correlation45, 'Correlation90': correlation90, 'Correlation135': correlation135,\n",
    "        }\n",
    "df = pd.DataFrame(dataTable)\n",
    "df.to_csv('hasil_ekstraksi_1.csv', index=False)\n",
    "\n",
    "hasilEkstrak = pd.read_csv('hasil_ekstraksi_1.csv')\n",
    "hasilEkstrak\n"
   ]
  },
  {
   "cell_type": "markdown",
   "id": "c17f554f",
   "metadata": {},
   "source": [
    "### Features Selection"
   ]
  },
  {
   "cell_type": "markdown",
   "id": "3e659072",
   "metadata": {},
   "source": [
    "pada bagian seleksi fitur ini bisa menggunakan metode seperti\n",
    "- PCA\n",
    "- LDA\n",
    "- t-SNE\n",
    "- Chi-square\n",
    "- ANOVA\n",
    "- Autoencoder\n",
    "- correlation\n",
    "- dll\n",
    "\n",
    "berikut contoh menggunakan correlation:"
   ]
  },
  {
   "cell_type": "code",
   "execution_count": 57,
   "id": "8e7197ae",
   "metadata": {},
   "outputs": [
    {
     "data": {
      "text/plain": [
       "<Axes: >"
      ]
     },
     "execution_count": 57,
     "metadata": {},
     "output_type": "execute_result"
    },
    {
     "data": {
      "image/png": "[encoded data removed]",
      "text/plain": [
       "<Figure size 1700x1700 with 2 Axes>"
      ]
     },
     "metadata": {},
     "output_type": "display_data"
    }
   ],
   "source": [
    "# Menghitung korelasi\n",
    "correlation = hasilEkstrak.drop(columns=['Label','Filename']).corr()\n",
    "\n",
    "# Menyaring fitur yang memiliki korelasi absolut lebih dari 0.95 dengan label\n",
    "threshold = 0.95 # atur threshold ini untuk menentukan seberapa besar korelasi yang ingin disaring\n",
    "selectionFeature = []\n",
    "columns = np.full((correlation.shape[0],), True, dtype=bool)\n",
    "for i in range(correlation.shape[0]):\n",
    "\tfor j in range(i+1, correlation.shape[0]):\n",
    "\t\tif correlation.iloc[i,j] >= threshold:\n",
    "\t\t\tif columns[j]:\n",
    "\t\t\t\tcolumns[j] = False\n",
    "select = hasilEkstrak.drop(columns=['Label','Filename']).columns[columns]\n",
    "x_new = hasilEkstrak[select]\n",
    "x_new\n",
    "y = hasilEkstrak['Label']\n",
    "plt.figure(figsize=(17,17))\n",
    "sns.heatmap(x_new.corr(), annot=True, cmap='Blues', fmt=\".2f\")"
   ]
  },
  {
   "cell_type": "markdown",
   "id": "abf36a18",
   "metadata": {},
   "source": [
    "## Splitting Data"
   ]
  },
  {
   "cell_type": "code",
   "execution_count": 58,
   "id": "5173fb82",
   "metadata": {},
   "outputs": [
    {
     "name": "stdout",
     "output_type": "stream",
     "text": [
      "(160, 8)\n",
      "(40, 8)\n"
     ]
    }
   ],
   "source": [
    "# ubah bagian test_size sesuai kebutuhan\n",
    "# 0.3 = 30% data untuk testing (train/test 70/30)\n",
    "# 0.2 = 20% data untuk testing (train/test 80/20)\n",
    "X_train, X_test, y_train, y_test = train_test_split(x_new, y, test_size=0.2, random_state=42)\n",
    "print(X_train.shape)\n",
    "print(X_test.shape)"
   ]
  },
  {
   "cell_type": "markdown",
   "id": "ff74254a",
   "metadata": {},
   "source": [
    "## Feature Normalization"
   ]
  },
  {
   "cell_type": "markdown",
   "id": "bea55a31",
   "metadata": {},
   "source": [
    "berikut metode normalisasi yang bisa digunakan:\n",
    "- Min-Max Scaling\n",
    "- Standardization (Z-score)\n",
    "- Robust Scaling\n",
    "- MaxAbsScaler\n",
    "- dll\n",
    "\n",
    "berikut contoh menggunakan Standardization (Z-score):"
   ]
  },
  {
   "cell_type": "code",
   "execution_count": 59,
   "id": "f4e0a4ae",
   "metadata": {},
   "outputs": [],
   "source": [
    "# normalisasi mean std\n",
    "X_test = (X_test - X_train.mean()) / X_train.std()\n",
    "X_train = (X_train - X_train.mean()) / X_train.std()"
   ]
  },
  {
   "cell_type": "markdown",
   "id": "2bb4cec5",
   "metadata": {},
   "source": [
    "## Modeling"
   ]
  },
  {
   "cell_type": "markdown",
   "id": "a455be44",
   "metadata": {},
   "source": [
    "### Define Model"
   ]
  },
  {
   "cell_type": "code",
   "execution_count": 60,
   "id": "66b09bef",
   "metadata": {},
   "outputs": [],
   "source": [
    "def generateClassificationReport(y_true, y_pred):\n",
    "\tprint(classification_report(y_true, y_pred))\n",
    "\tprint(confusion_matrix(y_true, y_pred))\n",
    "\tprint('Accuracy:', accuracy_score(y_true, y_pred))\n",
    "\n",
    "# Define classifiers\n",
    "rf = RandomForestClassifier(n_estimators=5, random_state=42)\n",
    "svm = SVC(kernel='rbf', random_state=42)\n",
    "knn = KNeighborsClassifier(n_neighbors=5)"
   ]
  },
  {
   "cell_type": "markdown",
   "id": "25849c61",
   "metadata": {},
   "source": [
    "### Train Random Forest Classifier"
   ]
  },
  {
   "cell_type": "code",
   "execution_count": 61,
   "id": "ec44bbb3",
   "metadata": {},
   "outputs": [
    {
     "name": "stdout",
     "output_type": "stream",
     "text": [
      "------Training Set------\n",
      "              precision    recall  f1-score   support\n",
      "\n",
      "    withMask       0.97      0.99      0.98        79\n",
      " withoutMask       0.99      0.98      0.98        81\n",
      "\n",
      "    accuracy                           0.98       160\n",
      "   macro avg       0.98      0.98      0.98       160\n",
      "weighted avg       0.98      0.98      0.98       160\n",
      "\n",
      "[[78  1]\n",
      " [ 2 79]]\n",
      "Accuracy: 0.98125\n",
      "\n",
      "------Testing Set------\n",
      "              precision    recall  f1-score   support\n",
      "\n",
      "    withMask       0.82      0.86      0.84        21\n",
      " withoutMask       0.83      0.79      0.81        19\n",
      "\n",
      "    accuracy                           0.82        40\n",
      "   macro avg       0.83      0.82      0.82        40\n",
      "weighted avg       0.83      0.82      0.82        40\n",
      "\n",
      "[[18  3]\n",
      " [ 4 15]]\n",
      "Accuracy: 0.825\n"
     ]
    }
   ],
   "source": [
    "# Train Random Forest Classifier\n",
    "rf.fit(X_train, y_train)\n",
    "\n",
    "# Make predictions and evaluate the model with the training set\n",
    "print(\"------Training Set------\")\n",
    "y_pred = rf.predict(X_train)\n",
    "generateClassificationReport( y_train, y_pred)\n",
    "\n",
    "# Make predictions and evaluate the model with the testing set\n",
    "print(\"\\n------Testing Set------\")\n",
    "y_pred = rf.predict(X_test)\n",
    "generateClassificationReport( y_test, y_pred)"
   ]
  },
  {
   "cell_type": "markdown",
   "id": "4ffb5242",
   "metadata": {},
   "source": [
    "### Train SVM Classifier"
   ]
  },
  {
   "cell_type": "code",
   "execution_count": 62,
   "id": "7b4a9f39",
   "metadata": {},
   "outputs": [
    {
     "name": "stdout",
     "output_type": "stream",
     "text": [
      "\n",
      "------Training Set------\n",
      "              precision    recall  f1-score   support\n",
      "\n",
      "    withMask       0.89      0.89      0.89        79\n",
      " withoutMask       0.89      0.89      0.89        81\n",
      "\n",
      "    accuracy                           0.89       160\n",
      "   macro avg       0.89      0.89      0.89       160\n",
      "weighted avg       0.89      0.89      0.89       160\n",
      "\n",
      "[[70  9]\n",
      " [ 9 72]]\n",
      "Accuracy: 0.8875\n",
      "\n",
      "------Testing Set------\n",
      "              precision    recall  f1-score   support\n",
      "\n",
      "    withMask       0.88      1.00      0.93        21\n",
      " withoutMask       1.00      0.84      0.91        19\n",
      "\n",
      "    accuracy                           0.93        40\n",
      "   macro avg       0.94      0.92      0.92        40\n",
      "weighted avg       0.93      0.93      0.92        40\n",
      "\n",
      "[[21  0]\n",
      " [ 3 16]]\n",
      "Accuracy: 0.925\n"
     ]
    }
   ],
   "source": [
    "# Train SVM Classifier\n",
    "svm.fit(X_train, y_train)\n",
    "\n",
    "# Make predictions and evaluate the model with the training set\n",
    "print(\"\\n------Training Set------\")\n",
    "y_pred = svm.predict(X_train)\n",
    "generateClassificationReport( y_train, y_pred)\n",
    "\n",
    "# Make predictions and evaluate the model with the testing set\n",
    "print(\"\\n------Testing Set------\")\n",
    "y_pred = svm.predict(X_test)\n",
    "generateClassificationReport( y_test, y_pred)"
   ]
  },
  {
   "cell_type": "markdown",
   "id": "bb01ed21",
   "metadata": {},
   "source": [
    "### Train KNN Classifier"
   ]
  },
  {
   "cell_type": "code",
   "execution_count": 63,
   "id": "53033b1c",
   "metadata": {},
   "outputs": [
    {
     "name": "stdout",
     "output_type": "stream",
     "text": [
      "\n",
      "------Training Set------\n",
      "              precision    recall  f1-score   support\n",
      "\n",
      "    withMask       0.89      0.82      0.86        79\n",
      " withoutMask       0.84      0.90      0.87        81\n",
      "\n",
      "    accuracy                           0.86       160\n",
      "   macro avg       0.86      0.86      0.86       160\n",
      "weighted avg       0.86      0.86      0.86       160\n",
      "\n",
      "[[65 14]\n",
      " [ 8 73]]\n",
      "Accuracy: 0.8625\n",
      "\n",
      "------Testing Set------\n",
      "              precision    recall  f1-score   support\n",
      "\n",
      "    withMask       0.86      0.90      0.88        21\n",
      " withoutMask       0.89      0.84      0.86        19\n",
      "\n",
      "    accuracy                           0.88        40\n",
      "   macro avg       0.88      0.87      0.87        40\n",
      "weighted avg       0.88      0.88      0.87        40\n",
      "\n",
      "[[19  2]\n",
      " [ 3 16]]\n",
      "Accuracy: 0.875\n"
     ]
    }
   ],
   "source": [
    "# Train KNN Classifier\n",
    "knn.fit(X_train, y_train)\n",
    "\n",
    "# Make predictions and evaluate the model with the training set\n",
    "print(\"\\n------Training Set------\")\n",
    "y_pred = knn.predict(X_train)\n",
    "generateClassificationReport( y_train, y_pred)\n",
    "\n",
    "# Make predictions and evaluate the model with the testing set\n",
    "print(\"\\n------Testing Set------\")\n",
    "y_pred = knn.predict(X_test)\n",
    "generateClassificationReport( y_test, y_pred)\n"
   ]
  },
  {
   "cell_type": "markdown",
   "id": "fbb9ac08",
   "metadata": {},
   "source": [
    "## Evaluation With Confusion Matrix"
   ]
  },
  {
   "cell_type": "code",
   "execution_count": 64,
   "id": "2a405060",
   "metadata": {},
   "outputs": [
    {
     "data": {
      "image/png": "[encoded data removed]",
      "text/plain": [
       "<Figure size 640x480 with 2 Axes>"
      ]
     },
     "metadata": {},
     "output_type": "display_data"
    },
    {
     "data": {
      "image/png": "[encoded data removed]",
      "text/plain": [
       "<Figure size 640x480 with 2 Axes>"
      ]
     },
     "metadata": {},
     "output_type": "display_data"
    },
    {
     "data": {
      "image/png": "[encoded data removed]",
      "text/plain": [
       "<Figure size 640x480 with 2 Axes>"
      ]
     },
     "metadata": {},
     "output_type": "display_data"
    }
   ],
   "source": [
    "def plot_confusion_matrix(y_true, y_pred, title):\n",
    "    cm = confusion_matrix(y_true, y_pred)\n",
    "    disp = ConfusionMatrixDisplay(confusion_matrix=cm)\n",
    "    disp.plot(cmap=plt.cm.Blues)\n",
    "    plt.title(title)\n",
    "    plt.show()\n",
    "\n",
    "# Plot confusion matrix for Random Forest\n",
    "plot_confusion_matrix(y_test, rf.predict(X_test), \"Random Forest Confusion Matrix\")\n",
    "# Plot confusion matrix for SVM\n",
    "plot_confusion_matrix(y_test, svm.predict(X_test), \"SVM Confusion Matrix\")\n",
    "# Plot confusion matrix for KNN\n",
    "plot_confusion_matrix(y_test, knn.predict(X_test), \"KNN Confusion Matrix\")"
   ]
  }
 ],
 "metadata": {
  "kernelspec": {
   "display_name": "Python 3",
   "language": "python",
   "name": "python3"
  },
  "language_info": {
   "codemirror_mode": {
    "name": "ipython",
    "version": 3
   },
   "file_extension": ".py",
   "mimetype": "text/x-python",
   "name": "python",
   "nbconvert_exporter": "python",
   "pygments_lexer": "ipython3",
   "version": "3.12.2"
  }
 },
 "nbformat": 4,
 "nbformat_minor": 5
}

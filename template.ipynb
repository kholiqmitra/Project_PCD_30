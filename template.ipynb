{
 "cells": [
  {
   "cell_type": "code",
   "execution_count": null,
   "id": "6184a1b6",
   "metadata": {},
   "outputs": [],
   "source": [
    "# Import library yang kalian butuhkan\n",
    "import os\n",
    "import cv2 as cv\n",
    "import matplotlib.pyplot as plt\n",
    "import numpy as np\n",
    "import pandas as pd\n",
    "from sklearn.model_selection import train_test_split, cross_val_predict\n",
    "from sklearn.metrics import accuracy_score, classification_report\n",
    "from skimage.feature import graycomatrix, graycoprops\n",
    "from scipy.stats import entropy\n",
    "from sklearn.ensemble import RandomForestClassifier\n",
    "from sklearn.svm import SVC\n",
    "from sklearn.neighbors import KNeighborsClassifier\n",
    "from sklearn.metrics import accuracy_score, precision_score, recall_score, f1_score, confusion_matrix, classification_report\n",
    "from sklearn.metrics import (confusion_matrix, ConfusionMatrixDisplay)\n",
    "import seaborn as sns\n",
    "import pywt"
   ]
  },
  {
   "cell_type": "markdown",
   "id": "7df0a0d3",
   "metadata": {},
   "source": [
    "## Data Loading"
   ]
  },
  {
   "cell_type": "markdown",
   "id": "ea27a137",
   "metadata": {},
   "source": [
    "Buat struktur folder dataset sebagai berikut:\n",
    "```\n",
    ".\n",
    "└──dataset\n",
    "    ├── label1\n",
    "\t├── image1.jpg\n",
    "\t├── image2.jpg\n",
    "\t└── image3.jpg\n",
    "    ├── label2\n",
    "    └── label3\n",
    "    └── dst...\n",
    "```"
   ]
  },
  {
   "cell_type": "code",
   "execution_count": 32,
   "id": "a0580c8f",
   "metadata": {},
   "outputs": [],
   "source": [
    "data = []\n",
    "labels = []\n",
    "file_name = []\n",
    "\n",
    "for sub_folder in os.listdir(\"dataset\\\\\"):\n",
    "    sub_folder_files = os.listdir(os.path.join(\"dataset\\\\\", sub_folder))\n",
    "    for i, filename in enumerate(sub_folder_files):\n",
    "        img_path = os.path.join(\"dataset\\\\\", sub_folder, filename)\n",
    "        img = cv.imread(img_path)\n",
    "        img = cv.resize(img, (224, 224))\n",
    "        img = img.astype(np.uint8)\n",
    "        img = cv.cvtColor(img, cv.COLOR_BGR2GRAY)\n",
    "        \n",
    "        data.append(img)\n",
    "        labels.append(sub_folder)\n",
    "        name = os.path.splitext(filename)[0]\n",
    "        file_name.append(filename)\n",
    "        \n",
    "data = np.array(data)\n",
    "labels = np.array(labels)"
   ]
  },
  {
   "cell_type": "markdown",
   "id": "6799d11c",
   "metadata": {},
   "source": [
    "## Data Augmentation"
   ]
  },
  {
   "cell_type": "markdown",
   "id": "163af5e2",
   "metadata": {},
   "source": [
    "### Define Augmentation Function\n"
   ]
  },
  {
   "cell_type": "code",
   "execution_count": 33,
   "id": "09f5554c",
   "metadata": {},
   "outputs": [],
   "source": [
    "# melakukan augmentasi data\n",
    "data_augmented = []\n",
    "labels_augmented = []\n",
    "paths_augmented = []\n",
    "file_name_augmented = []\n",
    "angles = [0, 45, 90, 135]\n",
    "\n",
    "for i in range(len(data)):\n",
    "    img = data[i]\n",
    "    label = labels[i]\n",
    "    name = file_name[i]\n",
    "    \n",
    "    (h, w) = img.shape[:2]\n",
    "    center = (w // 2, h // 2)\n",
    "    \n",
    "    for angle in angles:\n",
    "        M = cv.getRotationMatrix2D(center, angle, 1.0)\n",
    "        rotated = cv.warpAffine(img, M, (w, h))\n",
    "        \n",
    "        data_augmented.append(rotated)\n",
    "        labels_augmented.append(label)\n",
    "        # Tambah keterangan rotasi ke nama file\n",
    "        file_name_augmented.append(f\"{os.path.splitext(name)[0]}_rot{angle}.jpg\")\n",
    "\n",
    "data_augmented = np.array(data_augmented)\n",
    "labels_augmented = np.array(labels_augmented)"
   ]
  },
  {
   "cell_type": "code",
   "execution_count": 34,
   "id": "024fcdea",
   "metadata": {},
   "outputs": [
    {
     "name": "stdout",
     "output_type": "stream",
     "text": [
      "Data sebelum augmentasi:  200\n",
      "Data setelah augmentasi:  800\n"
     ]
    }
   ],
   "source": [
    "print(\"Data sebelum augmentasi: \", len(data))\n",
    "print(\"Data setelah augmentasi: \", len(data_augmented))"
   ]
  },
  {
   "cell_type": "markdown",
   "id": "62176457",
   "metadata": {},
   "source": [
    "## Data Preparation"
   ]
  },
  {
   "cell_type": "markdown",
   "id": "b0febf11",
   "metadata": {},
   "source": [
    "### Define Preprocessing Function\n"
   ]
  },
  {
   "cell_type": "code",
   "execution_count": null,
   "id": "65a18fd1",
   "metadata": {},
   "outputs": [],
   "source": [
    "def prepro1(img):\n",
    "    img_eq = cv.equalizeHist(img)\n",
    "    img_blur = cv.GaussianBlur(img_eq, (3,3), 0)\n",
    "    return img_blur\n",
    "\n",
    "def prepro2(img):\n",
    "     # Panggil prepro1 (normalisasi)\n",
    "    img_norm = prepro1(img)\n",
    "    \n",
    "    # Ekualisasi histogram (bisa pakai cv2.equalizeHist tapi harus uint8)\n",
    "    img_uint8 = np.uint8(img_norm * 255)\n",
    "    img_eq = cv.equalizeHist(img_uint8)\n",
    "    \n",
    "    # Deteksi tepi dengan Sobel (menghitung gradien tepi)\n",
    "    sobelx = cv.Sobel(img_eq, cv.CV_64F, 1, 0, ksize=3)\n",
    "    sobely = cv.Sobel(img_eq, cv.CV_64F, 0, 1, ksize=3)\n",
    "    edge_img = cv.magnitude(sobelx, sobely)\n",
    "    \n",
    "    # Normalisasi hasil deteksi tepi ke 0-1\n",
    "    edge_norm = cv.normalize(edge_img, None, 0, 1, cv.NORM_MINMAX)\n",
    "    \n",
    "    return edge_norm\n",
    "\n",
    "def prepro3():\n",
    "    pass"
   ]
  },
  {
   "cell_type": "markdown",
   "id": "3613c643",
   "metadata": {},
   "source": [
    "### Preprocessing"
   ]
  },
  {
   "cell_type": "code",
   "execution_count": 39,
   "id": "a1145354",
   "metadata": {},
   "outputs": [],
   "source": [
    "# pada bagian ini bisa gunakan data yang sebelum augmentasi atau setelah augmentasi\n",
    "dataPreprocessed = []\n",
    "for i in range(len(data)): # Loop through each image and do preprocessing\n",
    "\timg = data[i]\n",
    "    # coba pakai salah satu prepro, misal prepro1\n",
    "\timg_proc = prepro1(img)\n",
    "\tdataPreprocessed.append(img_proc)"
   ]
  },
  {
   "cell_type": "markdown",
   "id": "cf306948",
   "metadata": {},
   "source": [
    "### Feature Extraction"
   ]
  },
  {
   "cell_type": "code",
   "execution_count": 40,
   "id": "fec378ba",
   "metadata": {},
   "outputs": [],
   "source": [
    "def glcm(image, derajat):\n",
    "    if derajat == 0:\n",
    "        angles = [0]\n",
    "    elif derajat == 45:\n",
    "        angles = [np.pi / 4]\n",
    "    elif derajat == 90:\n",
    "        angles = [np.pi / 2]\n",
    "    elif derajat == 135:\n",
    "        angles = [3 * np.pi / 4]\n",
    "    else:\n",
    "        raise ValueError(\"Invalid angle. It should be one of the following: 0, 45, 90, 135.\")\n",
    "    \n",
    "    # mengembalikan matrix glcm dari image\n",
    "    glcm = graycomatrix(image, [1], angles, 256, symmetric=True, normed=True)\n",
    "    return glcm"
   ]
  },
  {
   "cell_type": "code",
   "execution_count": 41,
   "id": "daf10f07",
   "metadata": {},
   "outputs": [],
   "source": [
    "def correlation(matriks):\n",
    "\treturn graycoprops(matriks, 'correlation')[0, 0]"
   ]
  },
  {
   "cell_type": "code",
   "execution_count": 42,
   "id": "c2560c7a",
   "metadata": {},
   "outputs": [],
   "source": [
    "def dissimilarity(matriks):\n",
    "    return graycoprops(matriks, 'dissimilarity')[0, 0]"
   ]
  },
  {
   "cell_type": "code",
   "execution_count": 43,
   "id": "c0d9be99",
   "metadata": {},
   "outputs": [],
   "source": [
    "def homogenity(matriks):\n",
    "    return graycoprops(matriks, 'homogeneity')[0, 0]"
   ]
  },
  {
   "cell_type": "code",
   "execution_count": 44,
   "id": "3d23e443",
   "metadata": {},
   "outputs": [],
   "source": [
    "def contrast(matriks):\n",
    "    return graycoprops(matriks, 'contrast')[0, 0]"
   ]
  },
  {
   "cell_type": "code",
   "execution_count": 45,
   "id": "52bf5a9a",
   "metadata": {},
   "outputs": [],
   "source": [
    "def ASM(matriks):\n",
    "    return graycoprops(matriks, 'ASM')[0, 0]"
   ]
  },
  {
   "cell_type": "code",
   "execution_count": 46,
   "id": "22705f20",
   "metadata": {},
   "outputs": [],
   "source": [
    "def energy(matriks):\n",
    "    return graycoprops(matriks, 'energy')[0, 0]"
   ]
  },
  {
   "cell_type": "code",
   "execution_count": 47,
   "id": "4e679018",
   "metadata": {},
   "outputs": [],
   "source": [
    "def entropyGlcm(matriks):\n",
    "    return entropy(matriks.ravel())"
   ]
  },
  {
   "cell_type": "code",
   "execution_count": 48,
   "id": "73849914",
   "metadata": {},
   "outputs": [],
   "source": [
    "Derajat0 = []\n",
    "Derajat45 = []\n",
    "Derajat90 = []\n",
    "Derajat135 = []\n",
    "for i in range(len(dataPreprocessed)):\n",
    "    D0 = glcm(dataPreprocessed[i], 0)\n",
    "    D45 = glcm(dataPreprocessed[i], 45)\n",
    "    D90 = glcm(dataPreprocessed[i], 90)\n",
    "    D135 = glcm(dataPreprocessed[i], 135)\n",
    "    Derajat0.append(D0)\n",
    "    Derajat45.append(D45)\n",
    "    Derajat90.append(D90)\n",
    "    Derajat135.append(D135)"
   ]
  },
  {
   "cell_type": "code",
   "execution_count": 49,
   "id": "042afb26",
   "metadata": {},
   "outputs": [],
   "source": [
    "Kontras0, Kontras45, Kontras90, Kontras135 = [], [], [], []\n",
    "dissimilarity0, dissimilarity45, dissimilarity90, dissimilarity135 =  [], [], [], []\n",
    "homogenity0, homogenity45, homogenity90, homogenity135 = [], [], [], []\n",
    "entropy0, entropy45, entropy90, entropy135 =  [], [], [], []\n",
    "ASM0, ASM45, ASM90, ASM135 =  [], [], [], []\n",
    "energy0, energy45, energy90, energy135 =  [], [], [], []\n",
    "correlation0, correlation45, correlation90, correlation135 = [], [], [], []\n"
   ]
  },
  {
   "cell_type": "code",
   "execution_count": 50,
   "id": "d2100d81",
   "metadata": {},
   "outputs": [],
   "source": [
    "for i in range(len(dataPreprocessed)):\n",
    "    C0 = correlation(Derajat0[i])\n",
    "    correlation0.append(C0)\n",
    "    C45 = correlation(Derajat45[i])\n",
    "    correlation45.append(C45)\n",
    "    C90 = correlation(Derajat90[i])\n",
    "    correlation90.append(C90)\n",
    "    C135 = correlation(Derajat135[i])\n",
    "    correlation135.append(C135)"
   ]
  },
  {
   "cell_type": "code",
   "execution_count": 51,
   "id": "d5afa6c2",
   "metadata": {},
   "outputs": [],
   "source": [
    "for i in range(len(data)):\n",
    "    K0 = contrast(Derajat0[i])\n",
    "    K45 = contrast(Derajat45[i])\n",
    "    K90 = contrast(Derajat90[i])\n",
    "    K135 = contrast(Derajat135[i])\n",
    "    Kontras0.append(K0)\n",
    "    Kontras45.append(K45)\n",
    "    Kontras90.append(K90)\n",
    "    Kontras135.append(K135)"
   ]
  },
  {
   "cell_type": "code",
   "execution_count": 52,
   "id": "f43a2a41",
   "metadata": {},
   "outputs": [],
   "source": [
    "for i in range(len(data)):\n",
    "    Dis0 = dissimilarity(Derajat0[i])\n",
    "    Dis45 = dissimilarity(Derajat45[i])\n",
    "    Dis90 = dissimilarity(Derajat90[i])\n",
    "    Dis135 = dissimilarity(Derajat135[i])\n",
    "    dissimilarity0.append(Dis0)\n",
    "    dissimilarity45.append(Dis45)\n",
    "    dissimilarity90.append(Dis90)\n",
    "    dissimilarity135.append(Dis135)"
   ]
  },
  {
   "cell_type": "code",
   "execution_count": 53,
   "id": "e5892d8d",
   "metadata": {},
   "outputs": [],
   "source": [
    "for i in range(len(data)):\n",
    "    H0 = homogenity(Derajat0[i])\n",
    "    H45 = homogenity(Derajat45[i])\n",
    "    H90 = homogenity(Derajat90[i])\n",
    "    H135 = homogenity(Derajat135[i])\n",
    "    homogenity0.append(H0)\n",
    "    homogenity45.append(H45)\n",
    "    homogenity90.append(H90)\n",
    "    homogenity135.append(H135)"
   ]
  },
  {
   "cell_type": "code",
   "execution_count": 54,
   "id": "5e75484e",
   "metadata": {},
   "outputs": [],
   "source": [
    "for i in range(len(data)):  \n",
    "    E0 = entropyGlcm(Derajat0[i])\n",
    "    E45 = entropyGlcm(Derajat45[i])\n",
    "    E90 = entropyGlcm(Derajat90[i])\n",
    "    E135 = entropyGlcm(Derajat135[i])\n",
    "    entropy0.append(E0)\n",
    "    entropy45.append(E45)\n",
    "    entropy90.append(E90)\n",
    "    entropy135.append(E135)"
   ]
  },
  {
   "cell_type": "code",
   "execution_count": 55,
   "id": "f3ae22e2",
   "metadata": {},
   "outputs": [],
   "source": [
    "for i in range(len(data)):\n",
    "    A0 = ASM(Derajat0[i])\n",
    "    A45 = ASM(Derajat45[i])\n",
    "    A90 = ASM(Derajat90[i])\n",
    "    A135 = ASM(Derajat135[i])\n",
    "    ASM0.append(A0)\n",
    "    ASM45.append(A45)\n",
    "    ASM90.append(A90)\n",
    "    ASM135.append(A135)"
   ]
  },
  {
   "cell_type": "code",
   "execution_count": 56,
   "id": "4e13545b",
   "metadata": {},
   "outputs": [],
   "source": [
    "for i in range(len(data)):\n",
    "    ER0 = energy(Derajat0[i])\n",
    "    ER45 = energy(Derajat45[i])\n",
    "    ER90 = energy(Derajat90[i])\n",
    "    ER135 = energy(Derajat135[i])\n",
    "    energy0.append(ER0)\n",
    "    energy45.append(ER45)\n",
    "    energy90.append(ER90)\n",
    "    energy135.append(ER135)"
   ]
  },
  {
   "cell_type": "markdown",
   "id": "90b4a140",
   "metadata": {},
   "source": [
    "### Write the extraction's results to CSV "
   ]
  },
  {
   "cell_type": "code",
   "execution_count": 57,
   "id": "c9321664",
   "metadata": {},
   "outputs": [
    {
     "data": {
      "text/html": [
       "<div>\n",
       "<style scoped>\n",
       "    .dataframe tbody tr th:only-of-type {\n",
       "        vertical-align: middle;\n",
       "    }\n",
       "\n",
       "    .dataframe tbody tr th {\n",
       "        vertical-align: top;\n",
       "    }\n",
       "\n",
       "    .dataframe thead th {\n",
       "        text-align: right;\n",
       "    }\n",
       "</style>\n",
       "<table border=\"1\" class=\"dataframe\">\n",
       "  <thead>\n",
       "    <tr style=\"text-align: right;\">\n",
       "      <th></th>\n",
       "      <th>Filename</th>\n",
       "      <th>Label</th>\n",
       "      <th>Contrast0</th>\n",
       "      <th>Contrast45</th>\n",
       "      <th>Contrast90</th>\n",
       "      <th>Contrast135</th>\n",
       "      <th>Homogeneity0</th>\n",
       "      <th>Homogeneity45</th>\n",
       "      <th>Homogeneity90</th>\n",
       "      <th>Homogeneity135</th>\n",
       "      <th>...</th>\n",
       "      <th>ASM90</th>\n",
       "      <th>ASM135</th>\n",
       "      <th>Energy0</th>\n",
       "      <th>Energy45</th>\n",
       "      <th>Energy90</th>\n",
       "      <th>Energy135</th>\n",
       "      <th>Correlation0</th>\n",
       "      <th>Correlation45</th>\n",
       "      <th>Correlation90</th>\n",
       "      <th>Correlation135</th>\n",
       "    </tr>\n",
       "  </thead>\n",
       "  <tbody>\n",
       "    <tr>\n",
       "      <th>0</th>\n",
       "      <td>1163.png</td>\n",
       "      <td>withMask</td>\n",
       "      <td>23.370235</td>\n",
       "      <td>40.051298</td>\n",
       "      <td>19.505465</td>\n",
       "      <td>45.061433</td>\n",
       "      <td>0.357280</td>\n",
       "      <td>0.264392</td>\n",
       "      <td>0.356365</td>\n",
       "      <td>0.252666</td>\n",
       "      <td>...</td>\n",
       "      <td>0.000456</td>\n",
       "      <td>0.000298</td>\n",
       "      <td>0.021036</td>\n",
       "      <td>0.017726</td>\n",
       "      <td>0.021360</td>\n",
       "      <td>0.017254</td>\n",
       "      <td>0.997828</td>\n",
       "      <td>0.996271</td>\n",
       "      <td>0.998187</td>\n",
       "      <td>0.995805</td>\n",
       "    </tr>\n",
       "    <tr>\n",
       "      <th>1</th>\n",
       "      <td>1174.png</td>\n",
       "      <td>withMask</td>\n",
       "      <td>59.087144</td>\n",
       "      <td>124.856241</td>\n",
       "      <td>66.145600</td>\n",
       "      <td>118.889984</td>\n",
       "      <td>0.349290</td>\n",
       "      <td>0.262264</td>\n",
       "      <td>0.356850</td>\n",
       "      <td>0.274188</td>\n",
       "      <td>...</td>\n",
       "      <td>0.000421</td>\n",
       "      <td>0.000297</td>\n",
       "      <td>0.020719</td>\n",
       "      <td>0.017226</td>\n",
       "      <td>0.020526</td>\n",
       "      <td>0.017220</td>\n",
       "      <td>0.994477</td>\n",
       "      <td>0.988346</td>\n",
       "      <td>0.993844</td>\n",
       "      <td>0.988903</td>\n",
       "    </tr>\n",
       "    <tr>\n",
       "      <th>2</th>\n",
       "      <td>1175.png</td>\n",
       "      <td>withMask</td>\n",
       "      <td>138.474996</td>\n",
       "      <td>175.388546</td>\n",
       "      <td>45.160874</td>\n",
       "      <td>185.817873</td>\n",
       "      <td>0.239995</td>\n",
       "      <td>0.180262</td>\n",
       "      <td>0.285681</td>\n",
       "      <td>0.178614</td>\n",
       "      <td>...</td>\n",
       "      <td>0.000315</td>\n",
       "      <td>0.000176</td>\n",
       "      <td>0.015435</td>\n",
       "      <td>0.013210</td>\n",
       "      <td>0.017749</td>\n",
       "      <td>0.013278</td>\n",
       "      <td>0.986949</td>\n",
       "      <td>0.983439</td>\n",
       "      <td>0.995749</td>\n",
       "      <td>0.982455</td>\n",
       "    </tr>\n",
       "    <tr>\n",
       "      <th>3</th>\n",
       "      <td>1203.png</td>\n",
       "      <td>withMask</td>\n",
       "      <td>56.850717</td>\n",
       "      <td>129.006053</td>\n",
       "      <td>64.702314</td>\n",
       "      <td>109.703754</td>\n",
       "      <td>0.274353</td>\n",
       "      <td>0.177999</td>\n",
       "      <td>0.238387</td>\n",
       "      <td>0.184038</td>\n",
       "      <td>...</td>\n",
       "      <td>0.000277</td>\n",
       "      <td>0.000195</td>\n",
       "      <td>0.017337</td>\n",
       "      <td>0.013898</td>\n",
       "      <td>0.016657</td>\n",
       "      <td>0.013975</td>\n",
       "      <td>0.994677</td>\n",
       "      <td>0.987910</td>\n",
       "      <td>0.993955</td>\n",
       "      <td>0.989719</td>\n",
       "    </tr>\n",
       "    <tr>\n",
       "      <th>4</th>\n",
       "      <td>1361.png</td>\n",
       "      <td>withMask</td>\n",
       "      <td>15.417941</td>\n",
       "      <td>40.715156</td>\n",
       "      <td>25.112708</td>\n",
       "      <td>40.085785</td>\n",
       "      <td>0.411868</td>\n",
       "      <td>0.289220</td>\n",
       "      <td>0.383925</td>\n",
       "      <td>0.283234</td>\n",
       "      <td>...</td>\n",
       "      <td>0.000492</td>\n",
       "      <td>0.000327</td>\n",
       "      <td>0.023641</td>\n",
       "      <td>0.018233</td>\n",
       "      <td>0.022182</td>\n",
       "      <td>0.018077</td>\n",
       "      <td>0.998580</td>\n",
       "      <td>0.996247</td>\n",
       "      <td>0.997683</td>\n",
       "      <td>0.996305</td>\n",
       "    </tr>\n",
       "    <tr>\n",
       "      <th>...</th>\n",
       "      <td>...</td>\n",
       "      <td>...</td>\n",
       "      <td>...</td>\n",
       "      <td>...</td>\n",
       "      <td>...</td>\n",
       "      <td>...</td>\n",
       "      <td>...</td>\n",
       "      <td>...</td>\n",
       "      <td>...</td>\n",
       "      <td>...</td>\n",
       "      <td>...</td>\n",
       "      <td>...</td>\n",
       "      <td>...</td>\n",
       "      <td>...</td>\n",
       "      <td>...</td>\n",
       "      <td>...</td>\n",
       "      <td>...</td>\n",
       "      <td>...</td>\n",
       "      <td>...</td>\n",
       "      <td>...</td>\n",
       "      <td>...</td>\n",
       "    </tr>\n",
       "    <tr>\n",
       "      <th>195</th>\n",
       "      <td>967.png</td>\n",
       "      <td>withoutMask</td>\n",
       "      <td>35.755766</td>\n",
       "      <td>88.237548</td>\n",
       "      <td>56.354901</td>\n",
       "      <td>94.068914</td>\n",
       "      <td>0.300779</td>\n",
       "      <td>0.263574</td>\n",
       "      <td>0.357311</td>\n",
       "      <td>0.245477</td>\n",
       "      <td>...</td>\n",
       "      <td>0.003085</td>\n",
       "      <td>0.002544</td>\n",
       "      <td>0.052118</td>\n",
       "      <td>0.050768</td>\n",
       "      <td>0.055540</td>\n",
       "      <td>0.050434</td>\n",
       "      <td>0.997015</td>\n",
       "      <td>0.992632</td>\n",
       "      <td>0.995302</td>\n",
       "      <td>0.992145</td>\n",
       "    </tr>\n",
       "    <tr>\n",
       "      <th>196</th>\n",
       "      <td>972.png</td>\n",
       "      <td>withoutMask</td>\n",
       "      <td>108.416099</td>\n",
       "      <td>194.169660</td>\n",
       "      <td>96.888193</td>\n",
       "      <td>211.514489</td>\n",
       "      <td>0.220121</td>\n",
       "      <td>0.157831</td>\n",
       "      <td>0.218426</td>\n",
       "      <td>0.157627</td>\n",
       "      <td>...</td>\n",
       "      <td>0.000225</td>\n",
       "      <td>0.000156</td>\n",
       "      <td>0.014954</td>\n",
       "      <td>0.012514</td>\n",
       "      <td>0.014985</td>\n",
       "      <td>0.012496</td>\n",
       "      <td>0.989794</td>\n",
       "      <td>0.981708</td>\n",
       "      <td>0.990890</td>\n",
       "      <td>0.980074</td>\n",
       "    </tr>\n",
       "    <tr>\n",
       "      <th>197</th>\n",
       "      <td>973.png</td>\n",
       "      <td>withoutMask</td>\n",
       "      <td>79.033192</td>\n",
       "      <td>158.513785</td>\n",
       "      <td>68.054913</td>\n",
       "      <td>132.278127</td>\n",
       "      <td>0.239273</td>\n",
       "      <td>0.180991</td>\n",
       "      <td>0.244876</td>\n",
       "      <td>0.176165</td>\n",
       "      <td>...</td>\n",
       "      <td>0.000259</td>\n",
       "      <td>0.000181</td>\n",
       "      <td>0.015777</td>\n",
       "      <td>0.013380</td>\n",
       "      <td>0.016104</td>\n",
       "      <td>0.013452</td>\n",
       "      <td>0.992672</td>\n",
       "      <td>0.985285</td>\n",
       "      <td>0.993688</td>\n",
       "      <td>0.987721</td>\n",
       "    </tr>\n",
       "    <tr>\n",
       "      <th>198</th>\n",
       "      <td>998.png</td>\n",
       "      <td>withoutMask</td>\n",
       "      <td>148.065983</td>\n",
       "      <td>268.775885</td>\n",
       "      <td>138.549728</td>\n",
       "      <td>292.174224</td>\n",
       "      <td>0.215609</td>\n",
       "      <td>0.172419</td>\n",
       "      <td>0.240237</td>\n",
       "      <td>0.166939</td>\n",
       "      <td>...</td>\n",
       "      <td>0.000422</td>\n",
       "      <td>0.000292</td>\n",
       "      <td>0.019207</td>\n",
       "      <td>0.017255</td>\n",
       "      <td>0.020552</td>\n",
       "      <td>0.017075</td>\n",
       "      <td>0.985955</td>\n",
       "      <td>0.974514</td>\n",
       "      <td>0.986857</td>\n",
       "      <td>0.972295</td>\n",
       "    </tr>\n",
       "    <tr>\n",
       "      <th>199</th>\n",
       "      <td>999.png</td>\n",
       "      <td>withoutMask</td>\n",
       "      <td>27.238449</td>\n",
       "      <td>49.664059</td>\n",
       "      <td>21.543221</td>\n",
       "      <td>46.748939</td>\n",
       "      <td>0.279776</td>\n",
       "      <td>0.228355</td>\n",
       "      <td>0.375501</td>\n",
       "      <td>0.233609</td>\n",
       "      <td>...</td>\n",
       "      <td>0.000488</td>\n",
       "      <td>0.000285</td>\n",
       "      <td>0.019060</td>\n",
       "      <td>0.016761</td>\n",
       "      <td>0.022102</td>\n",
       "      <td>0.016872</td>\n",
       "      <td>0.997507</td>\n",
       "      <td>0.995451</td>\n",
       "      <td>0.998033</td>\n",
       "      <td>0.995718</td>\n",
       "    </tr>\n",
       "  </tbody>\n",
       "</table>\n",
       "<p>200 rows × 30 columns</p>\n",
       "</div>"
      ],
      "text/plain": [
       "     Filename        Label   Contrast0  Contrast45  Contrast90  Contrast135  \\\n",
       "0    1163.png     withMask   23.370235   40.051298   19.505465    45.061433   \n",
       "1    1174.png     withMask   59.087144  124.856241   66.145600   118.889984   \n",
       "2    1175.png     withMask  138.474996  175.388546   45.160874   185.817873   \n",
       "3    1203.png     withMask   56.850717  129.006053   64.702314   109.703754   \n",
       "4    1361.png     withMask   15.417941   40.715156   25.112708    40.085785   \n",
       "..        ...          ...         ...         ...         ...          ...   \n",
       "195   967.png  withoutMask   35.755766   88.237548   56.354901    94.068914   \n",
       "196   972.png  withoutMask  108.416099  194.169660   96.888193   211.514489   \n",
       "197   973.png  withoutMask   79.033192  158.513785   68.054913   132.278127   \n",
       "198   998.png  withoutMask  148.065983  268.775885  138.549728   292.174224   \n",
       "199   999.png  withoutMask   27.238449   49.664059   21.543221    46.748939   \n",
       "\n",
       "     Homogeneity0  Homogeneity45  Homogeneity90  Homogeneity135  ...  \\\n",
       "0        0.357280       0.264392       0.356365        0.252666  ...   \n",
       "1        0.349290       0.262264       0.356850        0.274188  ...   \n",
       "2        0.239995       0.180262       0.285681        0.178614  ...   \n",
       "3        0.274353       0.177999       0.238387        0.184038  ...   \n",
       "4        0.411868       0.289220       0.383925        0.283234  ...   \n",
       "..            ...            ...            ...             ...  ...   \n",
       "195      0.300779       0.263574       0.357311        0.245477  ...   \n",
       "196      0.220121       0.157831       0.218426        0.157627  ...   \n",
       "197      0.239273       0.180991       0.244876        0.176165  ...   \n",
       "198      0.215609       0.172419       0.240237        0.166939  ...   \n",
       "199      0.279776       0.228355       0.375501        0.233609  ...   \n",
       "\n",
       "        ASM90    ASM135   Energy0  Energy45  Energy90  Energy135  \\\n",
       "0    0.000456  0.000298  0.021036  0.017726  0.021360   0.017254   \n",
       "1    0.000421  0.000297  0.020719  0.017226  0.020526   0.017220   \n",
       "2    0.000315  0.000176  0.015435  0.013210  0.017749   0.013278   \n",
       "3    0.000277  0.000195  0.017337  0.013898  0.016657   0.013975   \n",
       "4    0.000492  0.000327  0.023641  0.018233  0.022182   0.018077   \n",
       "..        ...       ...       ...       ...       ...        ...   \n",
       "195  0.003085  0.002544  0.052118  0.050768  0.055540   0.050434   \n",
       "196  0.000225  0.000156  0.014954  0.012514  0.014985   0.012496   \n",
       "197  0.000259  0.000181  0.015777  0.013380  0.016104   0.013452   \n",
       "198  0.000422  0.000292  0.019207  0.017255  0.020552   0.017075   \n",
       "199  0.000488  0.000285  0.019060  0.016761  0.022102   0.016872   \n",
       "\n",
       "     Correlation0  Correlation45  Correlation90  Correlation135  \n",
       "0        0.997828       0.996271       0.998187        0.995805  \n",
       "1        0.994477       0.988346       0.993844        0.988903  \n",
       "2        0.986949       0.983439       0.995749        0.982455  \n",
       "3        0.994677       0.987910       0.993955        0.989719  \n",
       "4        0.998580       0.996247       0.997683        0.996305  \n",
       "..            ...            ...            ...             ...  \n",
       "195      0.997015       0.992632       0.995302        0.992145  \n",
       "196      0.989794       0.981708       0.990890        0.980074  \n",
       "197      0.992672       0.985285       0.993688        0.987721  \n",
       "198      0.985955       0.974514       0.986857        0.972295  \n",
       "199      0.997507       0.995451       0.998033        0.995718  \n",
       "\n",
       "[200 rows x 30 columns]"
      ]
     },
     "execution_count": 57,
     "metadata": {},
     "output_type": "execute_result"
    }
   ],
   "source": [
    "dataTable = {'Filename': file_name, 'Label': labels,\n",
    "        'Contrast0': Kontras0, 'Contrast45': Kontras45, 'Contrast90': Kontras90, 'Contrast135': Kontras135,\n",
    "        'Homogeneity0': homogenity0, 'Homogeneity45': homogenity45, 'Homogeneity90': homogenity90, 'Homogeneity135': homogenity135,\n",
    "        'Dissimilarity0': dissimilarity0, 'Dissimilarity45': dissimilarity45, 'Dissimilarity90': dissimilarity90, 'Dissimilarity135': dissimilarity135,\n",
    "        'Entropy0': entropy0, 'Entropy45': entropy45, 'Entropy90': entropy90, 'Entropy135': entropy135,\n",
    "        'ASM0': ASM0, 'ASM45': ASM45, 'ASM90': ASM90, 'ASM135': ASM135,\n",
    "        'Energy0': energy0, 'Energy45': energy45, 'Energy90': energy90, 'Energy135': energy135,\n",
    "        'Correlation0': correlation0, 'Correlation45': correlation45, 'Correlation90': correlation90, 'Correlation135': correlation135,\n",
    "        }\n",
    "df = pd.DataFrame(dataTable)\n",
    "df.to_csv('hasil_ekstraksi_1.csv', index=False)\n",
    "\n",
    "hasilEkstrak = pd.read_csv('hasil_ekstraksi_1.csv')\n",
    "hasilEkstrak\n"
   ]
  },
  {
   "cell_type": "markdown",
   "id": "bc25013c",
   "metadata": {},
   "source": [
    "### Features Selection"
   ]
  },
  {
   "cell_type": "markdown",
   "id": "295a2635",
   "metadata": {},
   "source": [
    "pada bagian seleksi fitur ini bisa menggunakan metode seperti\n",
    "- PCA\n",
    "- LDA\n",
    "- t-SNE\n",
    "- Chi-square\n",
    "- ANOVA\n",
    "- Autoencoder\n",
    "- correlation\n",
    "- dll\n",
    "\n",
    "berikut contoh menggunakan correlation:"
   ]
  },
  {
   "cell_type": "code",
   "execution_count": 58,
   "id": "94195c6b",
   "metadata": {},
   "outputs": [
    {
     "data": {
      "text/plain": [
       "<Axes: >"
      ]
     },
     "execution_count": 58,
     "metadata": {},
     "output_type": "execute_result"
    },
    {
     "data": {
      "image/png": "[encoded data removed]",
      "text/plain": [
       "<Figure size 1700x1700 with 2 Axes>"
      ]
     },
     "metadata": {},
     "output_type": "display_data"
    }
   ],
   "source": [
    "# Menghitung korelasi\n",
    "correlation = hasilEkstrak.drop(columns=['Label','Filename']).corr()\n",
    "\n",
    "# Menyaring fitur yang memiliki korelasi absolut lebih dari 0.95 dengan label\n",
    "threshold = 0.95 # atur threshold ini untuk menentukan seberapa besar korelasi yang ingin disaring\n",
    "selectionFeature = []\n",
    "columns = np.full((correlation.shape[0],), True, dtype=bool)\n",
    "for i in range(correlation.shape[0]):\n",
    "\tfor j in range(i+1, correlation.shape[0]):\n",
    "\t\tif correlation.iloc[i,j] >= threshold:\n",
    "\t\t\tif columns[j]:\n",
    "\t\t\t\tcolumns[j] = False\n",
    "select = hasilEkstrak.drop(columns=['Label','Filename']).columns[columns]\n",
    "x_new = hasilEkstrak[select]\n",
    "x_new\n",
    "y = hasilEkstrak['Label']\n",
    "plt.figure(figsize=(17,17))\n",
    "sns.heatmap(x_new.corr(), annot=True, cmap='Blues', fmt=\".2f\")"
   ]
  },
  {
   "cell_type": "markdown",
   "id": "f1b9ec4e",
   "metadata": {},
   "source": [
    "## Splitting Data"
   ]
  },
  {
   "cell_type": "code",
   "execution_count": 59,
   "id": "d3379d67",
   "metadata": {},
   "outputs": [
    {
     "name": "stdout",
     "output_type": "stream",
     "text": [
      "(160, 8)\n",
      "(40, 8)\n"
     ]
    }
   ],
   "source": [
    "# ubah bagian test_size sesuai kebutuhan\n",
    "# 0.3 = 30% data untuk testing (train/test 70/30)\n",
    "# 0.2 = 20% data untuk testing (train/test 80/20)\n",
    "X_train, X_test, y_train, y_test = train_test_split(x_new, y, test_size=0.2, random_state=42)\n",
    "print(X_train.shape)\n",
    "print(X_test.shape)"
   ]
  },
  {
   "cell_type": "markdown",
   "id": "7b9211d3",
   "metadata": {},
   "source": [
    "## Feature Normalization"
   ]
  },
  {
   "cell_type": "markdown",
   "id": "1d8aa8a4",
   "metadata": {},
   "source": [
    "berikut metode normalisasi yang bisa digunakan:\n",
    "- Min-Max Scaling\n",
    "- Standardization (Z-score)\n",
    "- Robust Scaling\n",
    "- MaxAbsScaler\n",
    "- dll\n",
    "\n",
    "berikut contoh menggunakan Standardization (Z-score):"
   ]
  },
  {
   "cell_type": "code",
   "execution_count": 60,
   "id": "a1bc1f3b",
   "metadata": {},
   "outputs": [],
   "source": [
    "# normalisasi mean std\n",
    "X_test = (X_test - X_train.mean()) / X_train.std()\n",
    "X_train = (X_train - X_train.mean()) / X_train.std()"
   ]
  },
  {
   "cell_type": "markdown",
   "id": "3691931a",
   "metadata": {},
   "source": [
    "## Modeling"
   ]
  },
  {
   "cell_type": "markdown",
   "id": "f844bdef",
   "metadata": {},
   "source": [
    "### Define Model"
   ]
  },
  {
   "cell_type": "code",
   "execution_count": 61,
   "id": "894f0c81",
   "metadata": {},
   "outputs": [],
   "source": [
    "def generateClassificationReport(y_true, y_pred):\n",
    "\tprint(classification_report(y_true, y_pred))\n",
    "\tprint(confusion_matrix(y_true, y_pred))\n",
    "\tprint('Accuracy:', accuracy_score(y_true, y_pred))\n",
    "\n",
    "# Define classifiers\n",
    "rf = RandomForestClassifier(n_estimators=5, random_state=42)\n",
    "svm = SVC(kernel='rbf', random_state=42)\n",
    "knn = KNeighborsClassifier(n_neighbors=5)"
   ]
  },
  {
   "cell_type": "markdown",
   "id": "c5956d20",
   "metadata": {},
   "source": [
    "### Train Random Forest Classifier"
   ]
  },
  {
   "cell_type": "code",
   "execution_count": 62,
   "id": "c9de8e73",
   "metadata": {},
   "outputs": [
    {
     "name": "stdout",
     "output_type": "stream",
     "text": [
      "------Training Set------\n",
      "              precision    recall  f1-score   support\n",
      "\n",
      "    withMask       0.95      0.97      0.96        79\n",
      " withoutMask       0.97      0.95      0.96        81\n",
      "\n",
      "    accuracy                           0.96       160\n",
      "   macro avg       0.96      0.96      0.96       160\n",
      "weighted avg       0.96      0.96      0.96       160\n",
      "\n",
      "[[77  2]\n",
      " [ 4 77]]\n",
      "Accuracy: 0.9625\n",
      "\n",
      "------Testing Set------\n",
      "              precision    recall  f1-score   support\n",
      "\n",
      "    withMask       0.81      0.81      0.81        21\n",
      " withoutMask       0.79      0.79      0.79        19\n",
      "\n",
      "    accuracy                           0.80        40\n",
      "   macro avg       0.80      0.80      0.80        40\n",
      "weighted avg       0.80      0.80      0.80        40\n",
      "\n",
      "[[17  4]\n",
      " [ 4 15]]\n",
      "Accuracy: 0.8\n"
     ]
    }
   ],
   "source": [
    "# Train Random Forest Classifier\n",
    "rf.fit(X_train, y_train)\n",
    "\n",
    "# Make predictions and evaluate the model with the training set\n",
    "print(\"------Training Set------\")\n",
    "y_pred = rf.predict(X_train)\n",
    "generateClassificationReport( y_train, y_pred)\n",
    "\n",
    "# Make predictions and evaluate the model with the testing set\n",
    "print(\"\\n------Testing Set------\")\n",
    "y_pred = rf.predict(X_test)\n",
    "generateClassificationReport( y_test, y_pred)"
   ]
  },
  {
   "cell_type": "markdown",
   "id": "bf14fba6",
   "metadata": {},
   "source": [
    "### Train SVM Classifier"
   ]
  },
  {
   "cell_type": "code",
   "execution_count": 63,
   "id": "25a5a295",
   "metadata": {},
   "outputs": [
    {
     "name": "stdout",
     "output_type": "stream",
     "text": [
      "\n",
      "------Training Set------\n",
      "              precision    recall  f1-score   support\n",
      "\n",
      "    withMask       0.91      0.85      0.88        79\n",
      " withoutMask       0.86      0.91      0.89        81\n",
      "\n",
      "    accuracy                           0.88       160\n",
      "   macro avg       0.88      0.88      0.88       160\n",
      "weighted avg       0.88      0.88      0.88       160\n",
      "\n",
      "[[67 12]\n",
      " [ 7 74]]\n",
      "Accuracy: 0.88125\n",
      "\n",
      "------Testing Set------\n",
      "              precision    recall  f1-score   support\n",
      "\n",
      "    withMask       0.87      0.95      0.91        21\n",
      " withoutMask       0.94      0.84      0.89        19\n",
      "\n",
      "    accuracy                           0.90        40\n",
      "   macro avg       0.91      0.90      0.90        40\n",
      "weighted avg       0.90      0.90      0.90        40\n",
      "\n",
      "[[20  1]\n",
      " [ 3 16]]\n",
      "Accuracy: 0.9\n"
     ]
    }
   ],
   "source": [
    "# Train SVM Classifier\n",
    "svm.fit(X_train, y_train)\n",
    "\n",
    "# Make predictions and evaluate the model with the training set\n",
    "print(\"\\n------Training Set------\")\n",
    "y_pred = svm.predict(X_train)\n",
    "generateClassificationReport( y_train, y_pred)\n",
    "\n",
    "# Make predictions and evaluate the model with the testing set\n",
    "print(\"\\n------Testing Set------\")\n",
    "y_pred = svm.predict(X_test)\n",
    "generateClassificationReport( y_test, y_pred)"
   ]
  },
  {
   "cell_type": "markdown",
   "id": "3cd6aec0",
   "metadata": {},
   "source": [
    "### Train KNN Classifier"
   ]
  },
  {
   "cell_type": "code",
   "execution_count": 64,
   "id": "ce5bd5bf",
   "metadata": {},
   "outputs": [
    {
     "name": "stdout",
     "output_type": "stream",
     "text": [
      "\n",
      "------Training Set------\n",
      "              precision    recall  f1-score   support\n",
      "\n",
      "    withMask       0.91      0.80      0.85        79\n",
      " withoutMask       0.82      0.93      0.87        81\n",
      "\n",
      "    accuracy                           0.86       160\n",
      "   macro avg       0.87      0.86      0.86       160\n",
      "weighted avg       0.87      0.86      0.86       160\n",
      "\n",
      "[[63 16]\n",
      " [ 6 75]]\n",
      "Accuracy: 0.8625\n",
      "\n",
      "------Testing Set------\n",
      "              precision    recall  f1-score   support\n",
      "\n",
      "    withMask       0.85      0.81      0.83        21\n",
      " withoutMask       0.80      0.84      0.82        19\n",
      "\n",
      "    accuracy                           0.82        40\n",
      "   macro avg       0.82      0.83      0.82        40\n",
      "weighted avg       0.83      0.82      0.83        40\n",
      "\n",
      "[[17  4]\n",
      " [ 3 16]]\n",
      "Accuracy: 0.825\n"
     ]
    }
   ],
   "source": [
    "# Train KNN Classifier\n",
    "knn.fit(X_train, y_train)\n",
    "\n",
    "# Make predictions and evaluate the model with the training set\n",
    "print(\"\\n------Training Set------\")\n",
    "y_pred = knn.predict(X_train)\n",
    "generateClassificationReport( y_train, y_pred)\n",
    "\n",
    "# Make predictions and evaluate the model with the testing set\n",
    "print(\"\\n------Testing Set------\")\n",
    "y_pred = knn.predict(X_test)\n",
    "generateClassificationReport( y_test, y_pred)\n"
   ]
  },
  {
   "cell_type": "markdown",
   "id": "21ffd913",
   "metadata": {},
   "source": [
    "## Evaluation With Confusion Matrix"
   ]
  },
  {
   "cell_type": "code",
   "execution_count": 65,
   "id": "b3608486",
   "metadata": {},
   "outputs": [
    {
     "data": {
      "image/png": "[encoded data removed]",
      "text/plain": [
       "<Figure size 640x480 with 2 Axes>"
      ]
     },
     "metadata": {},
     "output_type": "display_data"
    },
    {
     "data": {
      "image/png": "[encoded data removed]",
      "text/plain": [
       "<Figure size 640x480 with 2 Axes>"
      ]
     },
     "metadata": {},
     "output_type": "display_data"
    },
    {
     "data": {
      "image/png": "[encoded data removed]",
      "text/plain": [
       "<Figure size 640x480 with 2 Axes>"
      ]
     },
     "metadata": {},
     "output_type": "display_data"
    }
   ],
   "source": [
    "def plot_confusion_matrix(y_true, y_pred, title):\n",
    "    cm = confusion_matrix(y_true, y_pred)\n",
    "    disp = ConfusionMatrixDisplay(confusion_matrix=cm)\n",
    "    disp.plot(cmap=plt.cm.Blues)\n",
    "    plt.title(title)\n",
    "    plt.show()\n",
    "\n",
    "# Plot confusion matrix for Random Forest\n",
    "plot_confusion_matrix(y_test, rf.predict(X_test), \"Random Forest Confusion Matrix\")\n",
    "# Plot confusion matrix for SVM\n",
    "plot_confusion_matrix(y_test, svm.predict(X_test), \"SVM Confusion Matrix\")\n",
    "# Plot confusion matrix for KNN\n",
    "plot_confusion_matrix(y_test, knn.predict(X_test), \"KNN Confusion Matrix\")"
   ]
  }
 ],
 "metadata": {
  "kernelspec": {
   "display_name": "Python 3",
   "language": "python",
   "name": "python3"
  },
  "language_info": {
   "codemirror_mode": {
    "name": "ipython",
    "version": 3
   },
   "file_extension": ".py",
   "mimetype": "text/x-python",
   "name": "python",
   "nbconvert_exporter": "python",
   "pygments_lexer": "ipython3",
   "version": "3.12.2"
  }
 },
 "nbformat": 4,
 "nbformat_minor": 5
}
